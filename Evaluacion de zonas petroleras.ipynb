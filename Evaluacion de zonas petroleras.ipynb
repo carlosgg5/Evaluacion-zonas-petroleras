{
 "cells": [
  {
   "cell_type": "markdown",
   "metadata": {},
   "source": [
    "----"
   ]
  },
  {
   "cell_type": "markdown",
   "metadata": {},
   "source": [
    "## Introduccion"
   ]
  },
  {
   "cell_type": "markdown",
   "metadata": {},
   "source": [
    "El objetivo de este proyecto es utilizar las tecnicas de machine learning para realizar un analisis de la información de 3 region con pozos petroleros y evaluar cual es la región que tiene ganancias estimadas mas grandes y un riesgo de perdida bajo.\n",
    "Se utilizara el metodo de regresión lineal para las predicciones de las reservas de los pozos y se utilizara la información del costo de la instalacion de los pozos y los ingresos por unidad de petroleo para estimar las ganancias potenciales."
   ]
  },
  {
   "cell_type": "markdown",
   "metadata": {},
   "source": [
    "## Carga de datasets e importación de librerias"
   ]
  },
  {
   "cell_type": "code",
   "execution_count": 1,
   "metadata": {},
   "outputs": [],
   "source": [
    "#Importar librerias\n",
    "import pandas as pd\n",
    "from sklearn.linear_model import LinearRegression\n",
    "from sklearn.model_selection import train_test_split\n",
    "from sklearn.metrics import mean_squared_error\n",
    "import numpy as np\n",
    "from scipy import stats as st"
   ]
  },
  {
   "cell_type": "code",
   "execution_count": 2,
   "metadata": {},
   "outputs": [],
   "source": [
    "#Leer datos de los datasets\n",
    "\n",
    "data_0 = pd.read_csv(\"/datasets/geo_data_0.csv\")\n",
    "data_1 = pd.read_csv(\"/datasets/geo_data_1.csv\")\n",
    "data_2 = pd.read_csv(\"/datasets/geo_data_2.csv\")"
   ]
  },
  {
   "cell_type": "markdown",
   "metadata": {},
   "source": [
    "## Exploración inicial de datos"
   ]
  },
  {
   "cell_type": "code",
   "execution_count": 3,
   "metadata": {},
   "outputs": [
    {
     "data": {
      "text/html": [
       "<div>\n",
       "<style scoped>\n",
       "    .dataframe tbody tr th:only-of-type {\n",
       "        vertical-align: middle;\n",
       "    }\n",
       "\n",
       "    .dataframe tbody tr th {\n",
       "        vertical-align: top;\n",
       "    }\n",
       "\n",
       "    .dataframe thead th {\n",
       "        text-align: right;\n",
       "    }\n",
       "</style>\n",
       "<table border=\"1\" class=\"dataframe\">\n",
       "  <thead>\n",
       "    <tr style=\"text-align: right;\">\n",
       "      <th></th>\n",
       "      <th>id</th>\n",
       "      <th>f0</th>\n",
       "      <th>f1</th>\n",
       "      <th>f2</th>\n",
       "      <th>product</th>\n",
       "    </tr>\n",
       "  </thead>\n",
       "  <tbody>\n",
       "    <tr>\n",
       "      <th>0</th>\n",
       "      <td>txEyH</td>\n",
       "      <td>0.705745</td>\n",
       "      <td>-0.497823</td>\n",
       "      <td>1.221170</td>\n",
       "      <td>105.280062</td>\n",
       "    </tr>\n",
       "    <tr>\n",
       "      <th>1</th>\n",
       "      <td>2acmU</td>\n",
       "      <td>1.334711</td>\n",
       "      <td>-0.340164</td>\n",
       "      <td>4.365080</td>\n",
       "      <td>73.037750</td>\n",
       "    </tr>\n",
       "    <tr>\n",
       "      <th>2</th>\n",
       "      <td>409Wp</td>\n",
       "      <td>1.022732</td>\n",
       "      <td>0.151990</td>\n",
       "      <td>1.419926</td>\n",
       "      <td>85.265647</td>\n",
       "    </tr>\n",
       "    <tr>\n",
       "      <th>3</th>\n",
       "      <td>iJLyR</td>\n",
       "      <td>-0.032172</td>\n",
       "      <td>0.139033</td>\n",
       "      <td>2.978566</td>\n",
       "      <td>168.620776</td>\n",
       "    </tr>\n",
       "    <tr>\n",
       "      <th>4</th>\n",
       "      <td>Xdl7t</td>\n",
       "      <td>1.988431</td>\n",
       "      <td>0.155413</td>\n",
       "      <td>4.751769</td>\n",
       "      <td>154.036647</td>\n",
       "    </tr>\n",
       "  </tbody>\n",
       "</table>\n",
       "</div>"
      ],
      "text/plain": [
       "      id        f0        f1        f2     product\n",
       "0  txEyH  0.705745 -0.497823  1.221170  105.280062\n",
       "1  2acmU  1.334711 -0.340164  4.365080   73.037750\n",
       "2  409Wp  1.022732  0.151990  1.419926   85.265647\n",
       "3  iJLyR -0.032172  0.139033  2.978566  168.620776\n",
       "4  Xdl7t  1.988431  0.155413  4.751769  154.036647"
      ]
     },
     "execution_count": 3,
     "metadata": {},
     "output_type": "execute_result"
    }
   ],
   "source": [
    "#Mostrar primeras filas del 1er dataset\n",
    "data_0.head()"
   ]
  },
  {
   "cell_type": "code",
   "execution_count": 4,
   "metadata": {},
   "outputs": [
    {
     "data": {
      "text/html": [
       "<div>\n",
       "<style scoped>\n",
       "    .dataframe tbody tr th:only-of-type {\n",
       "        vertical-align: middle;\n",
       "    }\n",
       "\n",
       "    .dataframe tbody tr th {\n",
       "        vertical-align: top;\n",
       "    }\n",
       "\n",
       "    .dataframe thead th {\n",
       "        text-align: right;\n",
       "    }\n",
       "</style>\n",
       "<table border=\"1\" class=\"dataframe\">\n",
       "  <thead>\n",
       "    <tr style=\"text-align: right;\">\n",
       "      <th></th>\n",
       "      <th>id</th>\n",
       "      <th>f0</th>\n",
       "      <th>f1</th>\n",
       "      <th>f2</th>\n",
       "      <th>product</th>\n",
       "    </tr>\n",
       "  </thead>\n",
       "  <tbody>\n",
       "    <tr>\n",
       "      <th>0</th>\n",
       "      <td>kBEdx</td>\n",
       "      <td>-15.001348</td>\n",
       "      <td>-8.276000</td>\n",
       "      <td>-0.005876</td>\n",
       "      <td>3.179103</td>\n",
       "    </tr>\n",
       "    <tr>\n",
       "      <th>1</th>\n",
       "      <td>62mP7</td>\n",
       "      <td>14.272088</td>\n",
       "      <td>-3.475083</td>\n",
       "      <td>0.999183</td>\n",
       "      <td>26.953261</td>\n",
       "    </tr>\n",
       "    <tr>\n",
       "      <th>2</th>\n",
       "      <td>vyE1P</td>\n",
       "      <td>6.263187</td>\n",
       "      <td>-5.948386</td>\n",
       "      <td>5.001160</td>\n",
       "      <td>134.766305</td>\n",
       "    </tr>\n",
       "    <tr>\n",
       "      <th>3</th>\n",
       "      <td>KcrkZ</td>\n",
       "      <td>-13.081196</td>\n",
       "      <td>-11.506057</td>\n",
       "      <td>4.999415</td>\n",
       "      <td>137.945408</td>\n",
       "    </tr>\n",
       "    <tr>\n",
       "      <th>4</th>\n",
       "      <td>AHL4O</td>\n",
       "      <td>12.702195</td>\n",
       "      <td>-8.147433</td>\n",
       "      <td>5.004363</td>\n",
       "      <td>134.766305</td>\n",
       "    </tr>\n",
       "  </tbody>\n",
       "</table>\n",
       "</div>"
      ],
      "text/plain": [
       "      id         f0         f1        f2     product\n",
       "0  kBEdx -15.001348  -8.276000 -0.005876    3.179103\n",
       "1  62mP7  14.272088  -3.475083  0.999183   26.953261\n",
       "2  vyE1P   6.263187  -5.948386  5.001160  134.766305\n",
       "3  KcrkZ -13.081196 -11.506057  4.999415  137.945408\n",
       "4  AHL4O  12.702195  -8.147433  5.004363  134.766305"
      ]
     },
     "execution_count": 4,
     "metadata": {},
     "output_type": "execute_result"
    }
   ],
   "source": [
    "#Mostrar primeras filas del 2do dataset\n",
    "data_1.head(5)"
   ]
  },
  {
   "cell_type": "code",
   "execution_count": 5,
   "metadata": {},
   "outputs": [
    {
     "data": {
      "text/html": [
       "<div>\n",
       "<style scoped>\n",
       "    .dataframe tbody tr th:only-of-type {\n",
       "        vertical-align: middle;\n",
       "    }\n",
       "\n",
       "    .dataframe tbody tr th {\n",
       "        vertical-align: top;\n",
       "    }\n",
       "\n",
       "    .dataframe thead th {\n",
       "        text-align: right;\n",
       "    }\n",
       "</style>\n",
       "<table border=\"1\" class=\"dataframe\">\n",
       "  <thead>\n",
       "    <tr style=\"text-align: right;\">\n",
       "      <th></th>\n",
       "      <th>id</th>\n",
       "      <th>f0</th>\n",
       "      <th>f1</th>\n",
       "      <th>f2</th>\n",
       "      <th>product</th>\n",
       "    </tr>\n",
       "  </thead>\n",
       "  <tbody>\n",
       "    <tr>\n",
       "      <th>0</th>\n",
       "      <td>fwXo0</td>\n",
       "      <td>-1.146987</td>\n",
       "      <td>0.963328</td>\n",
       "      <td>-0.828965</td>\n",
       "      <td>27.758673</td>\n",
       "    </tr>\n",
       "    <tr>\n",
       "      <th>1</th>\n",
       "      <td>WJtFt</td>\n",
       "      <td>0.262778</td>\n",
       "      <td>0.269839</td>\n",
       "      <td>-2.530187</td>\n",
       "      <td>56.069697</td>\n",
       "    </tr>\n",
       "    <tr>\n",
       "      <th>2</th>\n",
       "      <td>ovLUW</td>\n",
       "      <td>0.194587</td>\n",
       "      <td>0.289035</td>\n",
       "      <td>-5.586433</td>\n",
       "      <td>62.871910</td>\n",
       "    </tr>\n",
       "    <tr>\n",
       "      <th>3</th>\n",
       "      <td>q6cA6</td>\n",
       "      <td>2.236060</td>\n",
       "      <td>-0.553760</td>\n",
       "      <td>0.930038</td>\n",
       "      <td>114.572842</td>\n",
       "    </tr>\n",
       "    <tr>\n",
       "      <th>4</th>\n",
       "      <td>WPMUX</td>\n",
       "      <td>-0.515993</td>\n",
       "      <td>1.716266</td>\n",
       "      <td>5.899011</td>\n",
       "      <td>149.600746</td>\n",
       "    </tr>\n",
       "  </tbody>\n",
       "</table>\n",
       "</div>"
      ],
      "text/plain": [
       "      id        f0        f1        f2     product\n",
       "0  fwXo0 -1.146987  0.963328 -0.828965   27.758673\n",
       "1  WJtFt  0.262778  0.269839 -2.530187   56.069697\n",
       "2  ovLUW  0.194587  0.289035 -5.586433   62.871910\n",
       "3  q6cA6  2.236060 -0.553760  0.930038  114.572842\n",
       "4  WPMUX -0.515993  1.716266  5.899011  149.600746"
      ]
     },
     "execution_count": 5,
     "metadata": {},
     "output_type": "execute_result"
    }
   ],
   "source": [
    "#Mostrar primeras filas del 3er dataset\n",
    "data_2.head()"
   ]
  },
  {
   "cell_type": "code",
   "execution_count": 6,
   "metadata": {},
   "outputs": [
    {
     "name": "stdout",
     "output_type": "stream",
     "text": [
      "<class 'pandas.core.frame.DataFrame'>\n",
      "RangeIndex: 100000 entries, 0 to 99999\n",
      "Data columns (total 5 columns):\n",
      " #   Column   Non-Null Count   Dtype  \n",
      "---  ------   --------------   -----  \n",
      " 0   id       100000 non-null  object \n",
      " 1   f0       100000 non-null  float64\n",
      " 2   f1       100000 non-null  float64\n",
      " 3   f2       100000 non-null  float64\n",
      " 4   product  100000 non-null  float64\n",
      "dtypes: float64(4), object(1)\n",
      "memory usage: 3.8+ MB\n"
     ]
    }
   ],
   "source": [
    "#Usar método info en 1er dataset\n",
    "data_0.info()"
   ]
  },
  {
   "cell_type": "code",
   "execution_count": 7,
   "metadata": {},
   "outputs": [
    {
     "name": "stdout",
     "output_type": "stream",
     "text": [
      "<class 'pandas.core.frame.DataFrame'>\n",
      "RangeIndex: 100000 entries, 0 to 99999\n",
      "Data columns (total 5 columns):\n",
      " #   Column   Non-Null Count   Dtype  \n",
      "---  ------   --------------   -----  \n",
      " 0   id       100000 non-null  object \n",
      " 1   f0       100000 non-null  float64\n",
      " 2   f1       100000 non-null  float64\n",
      " 3   f2       100000 non-null  float64\n",
      " 4   product  100000 non-null  float64\n",
      "dtypes: float64(4), object(1)\n",
      "memory usage: 3.8+ MB\n"
     ]
    }
   ],
   "source": [
    "#Usar método info en 2do dataset\n",
    "data_1.info()"
   ]
  },
  {
   "cell_type": "code",
   "execution_count": 8,
   "metadata": {},
   "outputs": [
    {
     "name": "stdout",
     "output_type": "stream",
     "text": [
      "<class 'pandas.core.frame.DataFrame'>\n",
      "RangeIndex: 100000 entries, 0 to 99999\n",
      "Data columns (total 5 columns):\n",
      " #   Column   Non-Null Count   Dtype  \n",
      "---  ------   --------------   -----  \n",
      " 0   id       100000 non-null  object \n",
      " 1   f0       100000 non-null  float64\n",
      " 2   f1       100000 non-null  float64\n",
      " 3   f2       100000 non-null  float64\n",
      " 4   product  100000 non-null  float64\n",
      "dtypes: float64(4), object(1)\n",
      "memory usage: 3.8+ MB\n"
     ]
    }
   ],
   "source": [
    "#Usar método info en 3er dataset\n",
    "data_2.info()"
   ]
  },
  {
   "cell_type": "markdown",
   "metadata": {},
   "source": [
    "En los 3 datasets no hay valores ausentes, la columna id contiene datos de tipo object y el resto de las columnas contienen datos float."
   ]
  },
  {
   "cell_type": "code",
   "execution_count": 9,
   "metadata": {},
   "outputs": [
    {
     "name": "stdout",
     "output_type": "stream",
     "text": [
      "0\n"
     ]
    }
   ],
   "source": [
    "#Revisar si hay filas duplicadas en el 1er dataset\n",
    "print(data_0.duplicated().sum())"
   ]
  },
  {
   "cell_type": "code",
   "execution_count": 10,
   "metadata": {},
   "outputs": [
    {
     "name": "stdout",
     "output_type": "stream",
     "text": [
      "0\n"
     ]
    }
   ],
   "source": [
    "#Revisar si hay filas duplicadas en el 2do dataset\n",
    "print(data_1.duplicated().sum())"
   ]
  },
  {
   "cell_type": "code",
   "execution_count": 11,
   "metadata": {},
   "outputs": [
    {
     "name": "stdout",
     "output_type": "stream",
     "text": [
      "0\n"
     ]
    }
   ],
   "source": [
    "#Revisar si hay filas duplicadas en el 3er dataset\n",
    "print(data_2.duplicated().sum())"
   ]
  },
  {
   "cell_type": "markdown",
   "metadata": {},
   "source": [
    "No existen filas duplicadas en los 3 datasets"
   ]
  },
  {
   "cell_type": "code",
   "execution_count": 12,
   "metadata": {},
   "outputs": [
    {
     "data": {
      "text/plain": [
       "id          99990\n",
       "f0         100000\n",
       "f1         100000\n",
       "f2         100000\n",
       "product    100000\n",
       "dtype: int64"
      ]
     },
     "execution_count": 12,
     "metadata": {},
     "output_type": "execute_result"
    }
   ],
   "source": [
    "# Contar valores unicos en cada columna del 1er dataset\n",
    "data_0.nunique()"
   ]
  },
  {
   "cell_type": "code",
   "execution_count": 13,
   "metadata": {},
   "outputs": [
    {
     "data": {
      "text/plain": [
       "id          99996\n",
       "f0         100000\n",
       "f1         100000\n",
       "f2         100000\n",
       "product        12\n",
       "dtype: int64"
      ]
     },
     "execution_count": 13,
     "metadata": {},
     "output_type": "execute_result"
    }
   ],
   "source": [
    "# Contar valores unicos en cada columna del 2do dataset\n",
    "data_1.nunique()"
   ]
  },
  {
   "cell_type": "code",
   "execution_count": 14,
   "metadata": {},
   "outputs": [
    {
     "data": {
      "text/plain": [
       "id          99996\n",
       "f0         100000\n",
       "f1         100000\n",
       "f2         100000\n",
       "product    100000\n",
       "dtype: int64"
      ]
     },
     "execution_count": 14,
     "metadata": {},
     "output_type": "execute_result"
    }
   ],
   "source": [
    "# Contar valores unicos en cada columna del 3er dataset\n",
    "data_2.nunique()"
   ]
  },
  {
   "cell_type": "markdown",
   "metadata": {},
   "source": [
    "En la columna product del dataset data_1 solo hay 12 valores unicos. "
   ]
  },
  {
   "cell_type": "code",
   "execution_count": 15,
   "metadata": {},
   "outputs": [],
   "source": [
    "# Definir variables features y target para 1er dataset\n",
    "\n",
    "features_data_0 = data_0.drop(['id', 'product'], axis=1)\n",
    "target_data_0 = data_0['product']"
   ]
  },
  {
   "cell_type": "code",
   "execution_count": 16,
   "metadata": {},
   "outputs": [],
   "source": [
    "# Definir variables features y target para 2do dataset\n",
    "\n",
    "features_data_1 = data_1.drop(['id', 'product'], axis=1)\n",
    "target_data_1 = data_1['product']"
   ]
  },
  {
   "cell_type": "code",
   "execution_count": 17,
   "metadata": {},
   "outputs": [],
   "source": [
    "# Definir variables features y target para 3er dataset\n",
    "\n",
    "features_data_2 = data_2.drop(['id', 'product'], axis=1)\n",
    "target_data_2 = data_2['product']"
   ]
  },
  {
   "cell_type": "markdown",
   "metadata": {},
   "source": [
    "## Entrenamiento y prueba de modelo"
   ]
  },
  {
   "cell_type": "markdown",
   "metadata": {},
   "source": [
    "### Crear funcion para divir los datos en conjuntos de entrenamiento y validación"
   ]
  },
  {
   "cell_type": "code",
   "execution_count": 18,
   "metadata": {},
   "outputs": [],
   "source": [
    "# Definir funcion para divir los datos en conjunto de entrenamiento y validación\n",
    "\n",
    "def split_train_val(features, target):\n",
    "    features_train, features_valid, target_train, target_valid = train_test_split(features, target, test_size=0.25, random_state=12345)\n",
    "    return features_train, features_valid, target_train, target_valid"
   ]
  },
  {
   "cell_type": "code",
   "execution_count": 19,
   "metadata": {},
   "outputs": [],
   "source": [
    "# Llamar a funcion con las variables features y target del 1er dataset\n",
    "features_train_0, features_valid_0, target_train_0, target_valid_0 = split_train_val(features_data_0, target_data_0)"
   ]
  },
  {
   "cell_type": "markdown",
   "metadata": {},
   "source": [
    "### Entrenamiento de modelo y predicción para el conjunto de validación"
   ]
  },
  {
   "cell_type": "code",
   "execution_count": 20,
   "metadata": {},
   "outputs": [],
   "source": [
    "# Crear funcion para entrenar el modelo de regresión lineal\n",
    "\n",
    "def modelo_regresion_lineal(features_train, target_train, features_valid):\n",
    "    model = LinearRegression() #Iniciar el modelo\n",
    "    model.fit(features_train, target_train) #Entrenar el modelo con el conjunto de entrenamiento\n",
    "    predictions_valid = model.predict(features_valid) #Obtener predicciones del conjunto de validación\n",
    "    return predictions_valid\n"
   ]
  },
  {
   "cell_type": "markdown",
   "metadata": {},
   "source": [
    "### Guardar las predicciones para el modelo de validación"
   ]
  },
  {
   "cell_type": "code",
   "execution_count": 21,
   "metadata": {},
   "outputs": [],
   "source": [
    "# Llamar a funcion con las variables del 1er dataset\n",
    "\n",
    "predictions_valid_0 = modelo_regresion_lineal(features_train_0, target_train_0, features_valid_0)"
   ]
  },
  {
   "cell_type": "markdown",
   "metadata": {},
   "source": [
    "### Muestra el volumen medio de reservas predicho y RMSE del modelo."
   ]
  },
  {
   "cell_type": "code",
   "execution_count": 22,
   "metadata": {},
   "outputs": [],
   "source": [
    "# Crear funcion para calcular el volumen medio de reservas predicho y el RMSE del modelo\n",
    "\n",
    "def mean_volume_RMSE(predictions_valid, target_valid): #Definir funcion con los argumentos predictions_valid y target_valid\n",
    "    mean_volume = predictions_valid.mean() #definir variable para calcular la media de las predicciones\n",
    "    RMSE_result = mean_squared_error(target_valid, predictions_valid)**0.5 #definir variable para calcular el RMSE\n",
    "    return mean_volume, RMSE_result"
   ]
  },
  {
   "cell_type": "code",
   "execution_count": 23,
   "metadata": {},
   "outputs": [
    {
     "name": "stdout",
     "output_type": "stream",
     "text": [
      "Volumen medio de reservas predicho: 92.59256778438035\n",
      "RMSE del modelo de regresión lineal en el conjunto de validación: 37.5794217150813\n"
     ]
    }
   ],
   "source": [
    "# Llamar a funcion con las predicciones y las respuestas del 1er dataset\n",
    "\n",
    "mean_volume_0, RMSE_result_0 = mean_volume_RMSE(predictions_valid_0, target_valid_0)\n",
    "\n",
    "#Imprimir valores del volumen medio de las predicciones y el valor del RMSE para el 1er dataset\n",
    "\n",
    "print(\"Volumen medio de reservas predicho:\",mean_volume_0)\n",
    "print(\"RMSE del modelo de regresión lineal en el conjunto de validación:\", RMSE_result_0)"
   ]
  },
  {
   "cell_type": "markdown",
   "metadata": {},
   "source": [
    "### Analiza los resultados"
   ]
  },
  {
   "cell_type": "markdown",
   "metadata": {},
   "source": [
    "El valor medio del volumen de reservas predicho es de 92 y el RMSE del modelo para el 1er data set es de 37 el cual es muy alto ya que es aproximadamente el 40% del valor medio de las predicciones."
   ]
  },
  {
   "cell_type": "markdown",
   "metadata": {},
   "source": [
    "### Realizar pasos anteriores para el 2do y 3er dataset"
   ]
  },
  {
   "cell_type": "markdown",
   "metadata": {},
   "source": [
    "#### Entrenamiento y prueba de 2do dataset"
   ]
  },
  {
   "cell_type": "code",
   "execution_count": 24,
   "metadata": {},
   "outputs": [],
   "source": [
    "# Llamar a funcion con las variables features y target del 2do dataset\n",
    "features_train_1, features_valid_1, target_train_1, target_valid_1 = split_train_val(features_data_1, target_data_1)"
   ]
  },
  {
   "cell_type": "code",
   "execution_count": 25,
   "metadata": {},
   "outputs": [],
   "source": [
    "# Llamar a funcion de entrenamiento de modelo y predicción con las variables del 2do dataset\n",
    "\n",
    "predictions_valid_1 = modelo_regresion_lineal(features_train_1, target_train_1, features_valid_1)"
   ]
  },
  {
   "cell_type": "code",
   "execution_count": 26,
   "metadata": {},
   "outputs": [
    {
     "name": "stdout",
     "output_type": "stream",
     "text": [
      "Volumen medio de reservas predicho: 68.728546895446\n",
      "RMSE del modelo de regresión lineal en el conjunto de validación: 0.893099286775617\n"
     ]
    }
   ],
   "source": [
    "# Llamar a funcion con las predicciones y las respuestas del 2do dataset\n",
    "\n",
    "mean_volume_1, RMSE_result_1 = mean_volume_RMSE(predictions_valid_1, target_valid_1)\n",
    "\n",
    "#Imprimir valores del volumen medio de las predicciones y el valor del RMSE para el 1er dataset\n",
    "\n",
    "print(\"Volumen medio de reservas predicho:\",mean_volume_1)\n",
    "print(\"RMSE del modelo de regresión lineal en el conjunto de validación:\", RMSE_result_1)"
   ]
  },
  {
   "cell_type": "markdown",
   "metadata": {},
   "source": [
    "El valor medio del volumen de reservas predicho es de 68.7 y el RMSE del modelo para el 2do dataset es de 0.89 el cual es bueno ya que es muy cercano a cero."
   ]
  },
  {
   "cell_type": "markdown",
   "metadata": {},
   "source": [
    "#### Entrenamiento y prueba de 3er dataset"
   ]
  },
  {
   "cell_type": "code",
   "execution_count": 27,
   "metadata": {},
   "outputs": [],
   "source": [
    "# Llamar a funcion con las variables features y target del 3er dataset\n",
    "features_train_2, features_valid_2, target_train_2, target_valid_2 = split_train_val(features_data_2, target_data_2)"
   ]
  },
  {
   "cell_type": "code",
   "execution_count": 28,
   "metadata": {},
   "outputs": [],
   "source": [
    "# Llamar a funcion de entrenamiento de modelo y predicción con las variables del 3er dataset\n",
    "\n",
    "predictions_valid_2 = modelo_regresion_lineal(features_train_2, target_train_2, features_valid_2)"
   ]
  },
  {
   "cell_type": "code",
   "execution_count": 29,
   "metadata": {},
   "outputs": [
    {
     "name": "stdout",
     "output_type": "stream",
     "text": [
      "Volumen medio de reservas predicho: 94.96504596800489\n",
      "RMSE del modelo de regresión lineal en el conjunto de validación: 40.02970873393434\n"
     ]
    }
   ],
   "source": [
    "# Llamar a funcion con las predicciones y las respuestas del 2do dataset\n",
    "\n",
    "mean_volume_2, RMSE_result_2 = mean_volume_RMSE(predictions_valid_2, target_valid_2)\n",
    "\n",
    "#Imprimir valores del volumen medio de las predicciones y el valor del RMSE para el 1er dataset\n",
    "\n",
    "print(\"Volumen medio de reservas predicho:\",mean_volume_2)\n",
    "print(\"RMSE del modelo de regresión lineal en el conjunto de validación:\", RMSE_result_2)"
   ]
  },
  {
   "cell_type": "markdown",
   "metadata": {},
   "source": [
    "El valor medio del volumen de reservas predicho es de 94.9 y el RMSE del modelo para el 3er data set es de 40 el cual es muy alto ya que es casi el 40% del valor medio de las predicciones."
   ]
  },
  {
   "cell_type": "markdown",
   "metadata": {},
   "source": [
    "## Preparación para calculo de ganancias"
   ]
  },
  {
   "cell_type": "markdown",
   "metadata": {},
   "source": [
    "#### Almacenar valores necesarios en variables"
   ]
  },
  {
   "cell_type": "code",
   "execution_count": 30,
   "metadata": {},
   "outputs": [],
   "source": [
    "#Variables para el calculo de ganancias\n",
    "\n",
    "income_per_unit = 4500\n",
    "risk_treshold = 0.025\n",
    "cost_200_wells = 100000000"
   ]
  },
  {
   "cell_type": "code",
   "execution_count": 31,
   "metadata": {},
   "outputs": [],
   "source": [
    "# Agregar predicciones a df de datos targer de conjunto de validación\n",
    "predictions_valid_0_series = pd.Series(predictions_valid_0)\n",
    "predictions_valid_1_series = pd.Series(predictions_valid_1)\n",
    "predictions_valid_2_series = pd.Series(predictions_valid_2)"
   ]
  },
  {
   "cell_type": "code",
   "execution_count": 32,
   "metadata": {},
   "outputs": [],
   "source": [
    "# Hacer reset index a target_valid de cada region\n",
    "\n",
    "target_valid_0_reset = target_valid_0.reset_index(drop=True)\n",
    "target_valid_1_reset = target_valid_1.reset_index(drop=True)\n",
    "target_valid_2_reset = target_valid_2.reset_index(drop=True)"
   ]
  },
  {
   "cell_type": "markdown",
   "metadata": {},
   "source": [
    "#### Compar la media de reservas de cada región con la media minima para evitar perdidas"
   ]
  },
  {
   "cell_type": "code",
   "execution_count": 33,
   "metadata": {},
   "outputs": [
    {
     "name": "stdout",
     "output_type": "stream",
     "text": [
      "Media de reservas de región 0: 92.5\n"
     ]
    }
   ],
   "source": [
    "#Media de reservas de 1er dataset\n",
    "print(\"Media de reservas de región 0:\",round(target_data_0.mean(), 4))"
   ]
  },
  {
   "cell_type": "code",
   "execution_count": 34,
   "metadata": {},
   "outputs": [
    {
     "name": "stdout",
     "output_type": "stream",
     "text": [
      "Media de reservas de región 1: 68.825\n"
     ]
    }
   ],
   "source": [
    "#Media de reservas de 2do dataset\n",
    "print(\"Media de reservas de región 1:\",round(target_data_1.mean(), 4))"
   ]
  },
  {
   "cell_type": "code",
   "execution_count": 35,
   "metadata": {},
   "outputs": [
    {
     "name": "stdout",
     "output_type": "stream",
     "text": [
      "Media de reservas de región 2: 95.0\n"
     ]
    }
   ],
   "source": [
    "#Media de reservas de 3er dataset\n",
    "print(\"Media de reservas de región 2:\",round(target_data_2.mean(), 4))"
   ]
  },
  {
   "cell_type": "markdown",
   "metadata": {},
   "source": [
    "Las reserva media de los pozos de las 3 regiones estan por debajo de la reserva minima necesaria por pozo para evitar perdidas."
   ]
  },
  {
   "cell_type": "markdown",
   "metadata": {},
   "source": [
    "#### Preparación del calculo del beneficio"
   ]
  },
  {
   "cell_type": "markdown",
   "metadata": {},
   "source": [
    "Para calcular el beneficio se va a crear una funcion que ordene los pozos de mayor a menor en base a la predicción de las reservas\n",
    "Despues se deben seleccionar los valores de reservas reales de los 200 pozos con mayores predicciones de reservas.\n",
    "Y la funcion debe devolver la suma de los valores reales de las reservas multiplicado por 4500 para obtener el beneficio total de la región."
   ]
  },
  {
   "cell_type": "markdown",
   "metadata": {},
   "source": [
    "## Crear funcion para calculo de ganancia de conjunto de pozos de una región"
   ]
  },
  {
   "cell_type": "code",
   "execution_count": 36,
   "metadata": {},
   "outputs": [],
   "source": [
    "#Crear funcion para calculo de ganancias de conjunto de pozos\n",
    "\n",
    "def revenue_region(target, predictions, count, income_per_unit=income_per_unit):\n",
    "    predict_sorted = predictions.sort_values(ascending=False) #Ordenar predicciones de mayor a menor\n",
    "    top_200_predict = predict_sorted.head(count) # Guardar valores de los 200 pozos con mayores predicciones de reservas\n",
    "    selected = target[predict_sorted.index][:count] #Seleccionar las reservas de los pozos con mayores predicciones\n",
    "    estimated_revenues = selected.sum()*income_per_unit\n",
    "    return estimated_revenues"
   ]
  },
  {
   "cell_type": "code",
   "execution_count": 37,
   "metadata": {},
   "outputs": [
    {
     "name": "stdout",
     "output_type": "stream",
     "text": [
      "Ingresos estimados región 0: 133208260.4314\n",
      "Ganancias estimadas región 0: 33208260.4314\n"
     ]
    }
   ],
   "source": [
    "# Ejecturar funcion para 1er region\n",
    "\n",
    "estimated_revenues_0 = revenue_region(target_valid_0_reset, predictions_valid_0_series, 200)\n",
    "print(\"Ingresos estimados región 0:\", round(estimated_revenues_0,4))\n",
    "print(\"Ganancias estimadas región 0:\", round(estimated_revenues_0-cost_200_wells, 4))"
   ]
  },
  {
   "cell_type": "code",
   "execution_count": 38,
   "metadata": {},
   "outputs": [
    {
     "name": "stdout",
     "output_type": "stream",
     "text": [
      "Ingresos estimados región 1: 124150866.9668\n",
      "Ganancias estimadas región 1: 24150866.9668\n"
     ]
    }
   ],
   "source": [
    "# Ejecturar funcion para 2da region\n",
    "\n",
    "estimated_revenues_1 = revenue_region(target_valid_1_reset, predictions_valid_1_series, 200)\n",
    "print(\"Ingresos estimados región 1:\", round(estimated_revenues_1,4))\n",
    "print(\"Ganancias estimadas región 1:\", round(estimated_revenues_1-cost_200_wells, 4))"
   ]
  },
  {
   "cell_type": "code",
   "execution_count": 39,
   "metadata": {},
   "outputs": [
    {
     "name": "stdout",
     "output_type": "stream",
     "text": [
      "Ingresos estimados región 2: 127103499.636\n",
      "Ganancias estimadas región 2: 27103499.636\n"
     ]
    }
   ],
   "source": [
    "# Ejecturar funcion para 3er region\n",
    "\n",
    "estimated_revenues_2 = revenue_region(target_valid_2_reset, predictions_valid_2_series, 200)\n",
    "print(\"Ingresos estimados región 2:\", round(estimated_revenues_2,4))\n",
    "print(\"Ganancias estimadas región 2:\", round(estimated_revenues_2-cost_200_wells, 4))"
   ]
  },
  {
   "cell_type": "markdown",
   "metadata": {},
   "source": [
    "### Conclusiones del calculo de ganacias de cada región"
   ]
  },
  {
   "cell_type": "markdown",
   "metadata": {},
   "source": [
    "La región con mayores ganancias potenciales es la 0 con un total de 33 millones de ganancia, y es la segunda con mayor promedio de reservas por pozo de con 92.5 unidades, por lo es la mejor opcion para el desarrollo de pozos petroliferos."
   ]
  },
  {
   "cell_type": "markdown",
   "metadata": {},
   "source": [
    "## Calcular riesgos y ganancias para cada region"
   ]
  },
  {
   "cell_type": "markdown",
   "metadata": {},
   "source": [
    "### Calculo para 1er region"
   ]
  },
  {
   "cell_type": "code",
   "execution_count": 40,
   "metadata": {},
   "outputs": [],
   "source": [
    "# Definir variable state\n",
    "state = np.random.RandomState(12345)"
   ]
  },
  {
   "cell_type": "code",
   "execution_count": 41,
   "metadata": {},
   "outputs": [],
   "source": [
    "#Crear funcion para realizar tecnica de bootstraping\n",
    "\n",
    "def bootstrap_benefit(target_valid_region, predictions_valid_region): #Definir funcion\n",
    "    benefit_sample = [] #Definir variable para almacenar los ingresos de cada muestra\n",
    "    for i in range(1000): #Crear bucle para hacer las 1000 iteraciones para las muestras bootstrap\n",
    "        target_region_subsample = target_valid_region.sample(n=500, replace=True, random_state=state) #Crear submuestra de 500 items del target\n",
    "        predictions_region_subsample = predictions_valid_region[target_region_subsample.index] #Guardar los valores de las predicciones de las 500 targets en una variable\n",
    "        benefit_sample.append(revenue_region(target_region_subsample, predictions_region_subsample, 200)-cost_200_wells) #Llamar a funcion de calculo de ingresos para submuestra y restarle el costo de instalacion de pozos\n",
    "    \n",
    "    benefit_sample = pd.Series(benefit_sample)\n",
    "    return benefit_sample\n",
    "    "
   ]
  },
  {
   "cell_type": "code",
   "execution_count": 42,
   "metadata": {},
   "outputs": [],
   "source": [
    "#Aplicar funcion para muestras bootstrap a 1er region\n",
    "\n",
    "benefit_samples_0 = bootstrap_benefit(target_valid_0_reset, predictions_valid_0_series)"
   ]
  },
  {
   "cell_type": "code",
   "execution_count": 43,
   "metadata": {},
   "outputs": [
    {
     "data": {
      "text/plain": [
       "<AxesSubplot:>"
      ]
     },
     "execution_count": 43,
     "metadata": {},
     "output_type": "execute_result"
    },
    {
     "data": {
      "image/png": "[encoded data removed]",
      "text/plain": [
       "<Figure size 640x480 with 1 Axes>"
      ]
     },
     "metadata": {},
     "output_type": "display_data"
    }
   ],
   "source": [
    "#Crear grafica de distribución de beneficios\n",
    "\n",
    "benefit_samples_0.hist()"
   ]
  },
  {
   "cell_type": "code",
   "execution_count": 44,
   "metadata": {},
   "outputs": [
    {
     "name": "stdout",
     "output_type": "stream",
     "text": [
      "Beneficio promedio de region 0: 4259385.269105923\n"
     ]
    }
   ],
   "source": [
    "#Calcular beneficio promedio para región 0\n",
    "mean_region_0 = benefit_samples_0.mean()\n",
    "print(\"Beneficio promedio de region 0:\",mean_region_0)"
   ]
  },
  {
   "cell_type": "code",
   "execution_count": 45,
   "metadata": {},
   "outputs": [
    {
     "name": "stdout",
     "output_type": "stream",
     "text": [
      "Intervalo de confianza del 95 % región 0: -1020900.9483793724 , 9479763.533583675\n"
     ]
    }
   ],
   "source": [
    "#Calcular intervalo de confianza del 95%\n",
    "\n",
    "lower_0 = benefit_samples_0.quantile(0.025)\n",
    "upper_0 = benefit_samples_0.quantile(0.975)\n",
    "\n",
    "print('Intervalo de confianza del 95 % región 0:', lower_0, \",\" , upper_0)"
   ]
  },
  {
   "cell_type": "code",
   "execution_count": 46,
   "metadata": {},
   "outputs": [
    {
     "name": "stdout",
     "output_type": "stream",
     "text": [
      "Riesgo de perdida región 0: 6.0 %\n"
     ]
    }
   ],
   "source": [
    "print('Riesgo de perdida región 0:', (benefit_samples_0<0).mean()*100, '%')"
   ]
  },
  {
   "cell_type": "markdown",
   "metadata": {},
   "source": [
    "### Calculo para 2da region"
   ]
  },
  {
   "cell_type": "code",
   "execution_count": 47,
   "metadata": {},
   "outputs": [],
   "source": [
    "#Aplicar funcion para muestras bootstrap a 2da region\n",
    "\n",
    "benefit_samples_1 = bootstrap_benefit(target_valid_1_reset, predictions_valid_1_series)"
   ]
  },
  {
   "cell_type": "code",
   "execution_count": 48,
   "metadata": {},
   "outputs": [
    {
     "data": {
      "text/plain": [
       "<AxesSubplot:>"
      ]
     },
     "execution_count": 48,
     "metadata": {},
     "output_type": "execute_result"
    },
    {
     "data": {
      "image/png": "[encoded data removed]",
      "text/plain": [
       "<Figure size 640x480 with 1 Axes>"
      ]
     },
     "metadata": {},
     "output_type": "display_data"
    }
   ],
   "source": [
    "#Crear grafica de distribución de beneficios\n",
    "\n",
    "benefit_samples_1.hist()"
   ]
  },
  {
   "cell_type": "code",
   "execution_count": 49,
   "metadata": {},
   "outputs": [
    {
     "name": "stdout",
     "output_type": "stream",
     "text": [
      "Beneficio promedio de region 1: 5182594.93697325\n"
     ]
    }
   ],
   "source": [
    "#Calcular beneficio promedio para región 1\n",
    "mean_region_1 = benefit_samples_1.mean()\n",
    "print(\"Beneficio promedio de region 1:\",mean_region_1)"
   ]
  },
  {
   "cell_type": "code",
   "execution_count": 50,
   "metadata": {},
   "outputs": [
    {
     "name": "stdout",
     "output_type": "stream",
     "text": [
      "Intervalo de confianza del 95 % región 1: 1281232.3143308456 , 9536129.820669085\n"
     ]
    }
   ],
   "source": [
    "#Calcular intervalo de confianza del 95%\n",
    "\n",
    "lower_1 = benefit_samples_1.quantile(0.025)\n",
    "upper_1 = benefit_samples_1.quantile(0.975)\n",
    "\n",
    "print('Intervalo de confianza del 95 % región 1:', lower_1, \",\" , upper_1)"
   ]
  },
  {
   "cell_type": "code",
   "execution_count": 51,
   "metadata": {},
   "outputs": [
    {
     "name": "stdout",
     "output_type": "stream",
     "text": [
      "Riesgo de perdida región 1: 0.3 %\n"
     ]
    }
   ],
   "source": [
    "print('Riesgo de perdida región 1:', (benefit_samples_1<0).mean()*100, '%')"
   ]
  },
  {
   "cell_type": "markdown",
   "metadata": {},
   "source": [
    "### Calculo para 3er region"
   ]
  },
  {
   "cell_type": "code",
   "execution_count": 52,
   "metadata": {},
   "outputs": [],
   "source": [
    "#Aplicar funcion para muestras bootstrap a 3er region\n",
    "\n",
    "benefit_samples_2 = bootstrap_benefit(target_valid_2_reset, predictions_valid_2_series)"
   ]
  },
  {
   "cell_type": "code",
   "execution_count": 53,
   "metadata": {},
   "outputs": [
    {
     "data": {
      "text/plain": [
       "<AxesSubplot:>"
      ]
     },
     "execution_count": 53,
     "metadata": {},
     "output_type": "execute_result"
    },
    {
     "data": {
      "image/png": "[encoded data removed]",
      "text/plain": [
       "<Figure size 640x480 with 1 Axes>"
      ]
     },
     "metadata": {},
     "output_type": "display_data"
    }
   ],
   "source": [
    "#Crear grafica de distribución de beneficios\n",
    "\n",
    "benefit_samples_2.hist()"
   ]
  },
  {
   "cell_type": "code",
   "execution_count": 54,
   "metadata": {},
   "outputs": [
    {
     "name": "stdout",
     "output_type": "stream",
     "text": [
      "Beneficio promedio de region 2: 4201940.0534405\n"
     ]
    }
   ],
   "source": [
    "#Calcular beneficio promedio para región 2\n",
    "mean_region_2 = benefit_samples_2.mean()\n",
    "print(\"Beneficio promedio de region 2:\",mean_region_2)"
   ]
  },
  {
   "cell_type": "code",
   "execution_count": 55,
   "metadata": {},
   "outputs": [
    {
     "name": "stdout",
     "output_type": "stream",
     "text": [
      "Intervalo de confianza del 95 % región 1: -1158526.0916001017 , 9896299.398445744\n"
     ]
    }
   ],
   "source": [
    "#Calcular intervalo de confianza del 95%\n",
    "\n",
    "lower_2 = benefit_samples_2.quantile(0.025)\n",
    "upper_2 = benefit_samples_2.quantile(0.975)\n",
    "\n",
    "print('Intervalo de confianza del 95 % región 1:', lower_2, \",\" , upper_2)"
   ]
  },
  {
   "cell_type": "code",
   "execution_count": 56,
   "metadata": {},
   "outputs": [
    {
     "name": "stdout",
     "output_type": "stream",
     "text": [
      "Riesgo de perdida región 2: 6.2 %\n"
     ]
    }
   ],
   "source": [
    "#Aplicar funcion para calculo de riesgo de perdida para 3er region\n",
    "print('Riesgo de perdida región 2:', (benefit_samples_2<0).mean()*100, '%')"
   ]
  },
  {
   "cell_type": "markdown",
   "metadata": {},
   "source": [
    "## Conclusión"
   ]
  },
  {
   "cell_type": "markdown",
   "metadata": {},
   "source": [
    "Durante la ejecución de este proyecto se realizo el entrenamiento del modelo utilizando la tecnica de regresión y con el conjunto de entrenamiento que representó el 75% de los datos y se generaron las predicciones para el conjunto de validación.\n",
    "Para las regiones 0 y 2 los valores de RMSE son altos, lo que significa que el modelo no predice tan adecuadamente los valores objetivo, para la región 1 el modelo se ajusto mejor y obtuvimos un RMSE cercano a 0.\n",
    "Al realizar el calculo de ganancias con el conjunto de validación completo y la seleccion de los 200 pozos con mayores predicciones de reservas, se encontro que las ganancias potenciales en todas las regiones eran de alrededor de 24 a 33 millones de dolares y la región com mayores ganancias potenciales era la 0.\n",
    "\n",
    "Al utilizar la tecnica de bootstrap y utilizar submuestras de 500 valores para el calculo de las ganancias potenciales de cada región se encontro que las ganancias potenciales para la mayoria de las regiones se encontraban entre 4 y 5 millones, el cual es mucho menor al obtenido anteriormente.\n",
    "\n",
    "Solo se encontro una región con riesgo de perdida menor al 2.5% la cual es la región 1 con un riesgo menor a 1%, y con las ganancias promedio mas altas de 5 millones, por lo cual es la región mas adecuada para el desarrollo de pozos.\n",
    "Este resultado no coincide con el obtenido anteriormente en el cual se había elegido a las región 0 para el desarrollo de los pozos."
   ]
  }
 ],
 "metadata": {
  "ExecuteTimeLog": [
   {
    "duration": 322,
    "start_time": "2024-05-18T21:50:12.391Z"
   },
   {
    "duration": 1211,
    "start_time": "2024-05-18T21:50:21.558Z"
   },
   {
    "duration": 480,
    "start_time": "2024-05-18T21:50:22.777Z"
   },
   {
    "duration": 20,
    "start_time": "2024-05-18T21:50:23.260Z"
   },
   {
    "duration": 25,
    "start_time": "2024-05-18T21:50:23.284Z"
   },
   {
    "duration": 16,
    "start_time": "2024-05-18T21:50:23.312Z"
   },
   {
    "duration": 25,
    "start_time": "2024-05-18T21:50:23.332Z"
   },
   {
    "duration": 54,
    "start_time": "2024-05-18T21:50:23.360Z"
   },
   {
    "duration": 26,
    "start_time": "2024-05-18T21:50:23.416Z"
   },
   {
    "duration": 85,
    "start_time": "2024-05-18T21:50:23.445Z"
   },
   {
    "duration": 81,
    "start_time": "2024-05-18T21:50:23.537Z"
   },
   {
    "duration": 85,
    "start_time": "2024-05-18T21:50:23.626Z"
   },
   {
    "duration": 71,
    "start_time": "2024-05-18T21:50:23.714Z"
   },
   {
    "duration": 59,
    "start_time": "2024-05-18T21:50:23.802Z"
   },
   {
    "duration": 89,
    "start_time": "2024-05-18T21:50:23.864Z"
   },
   {
    "duration": 7,
    "start_time": "2024-05-18T21:50:23.957Z"
   },
   {
    "duration": 8,
    "start_time": "2024-05-18T21:50:23.968Z"
   },
   {
    "duration": 7,
    "start_time": "2024-05-18T21:50:24.003Z"
   },
   {
    "duration": 6,
    "start_time": "2024-05-18T21:50:24.013Z"
   },
   {
    "duration": 24,
    "start_time": "2024-05-18T21:50:24.021Z"
   },
   {
    "duration": 5,
    "start_time": "2024-05-18T21:50:24.048Z"
   },
   {
    "duration": 52,
    "start_time": "2024-05-18T21:50:24.057Z"
   },
   {
    "duration": 6,
    "start_time": "2024-05-18T21:50:24.112Z"
   },
   {
    "duration": 8,
    "start_time": "2024-05-18T21:50:24.121Z"
   },
   {
    "duration": 96,
    "start_time": "2024-05-18T21:50:24.132Z"
   },
   {
    "duration": 21,
    "start_time": "2024-05-18T21:52:27.244Z"
   },
   {
    "duration": 7,
    "start_time": "2024-05-18T21:53:10.847Z"
   },
   {
    "duration": 17,
    "start_time": "2024-05-18T21:56:22.827Z"
   },
   {
    "duration": 15,
    "start_time": "2024-05-18T21:56:47.744Z"
   },
   {
    "duration": 7,
    "start_time": "2024-05-18T21:57:16.998Z"
   },
   {
    "duration": 625,
    "start_time": "2024-05-18T22:47:26.564Z"
   },
   {
    "duration": 9,
    "start_time": "2024-05-18T22:47:37.910Z"
   },
   {
    "duration": 6,
    "start_time": "2024-05-18T22:49:46.636Z"
   },
   {
    "duration": 24,
    "start_time": "2024-05-18T22:49:53.101Z"
   },
   {
    "duration": 23,
    "start_time": "2024-05-18T22:50:17.830Z"
   },
   {
    "duration": 22,
    "start_time": "2024-05-18T22:51:24.898Z"
   },
   {
    "duration": 4,
    "start_time": "2024-05-18T22:52:05.036Z"
   },
   {
    "duration": 25,
    "start_time": "2024-05-18T22:52:41.180Z"
   },
   {
    "duration": 25,
    "start_time": "2024-05-18T22:52:50.543Z"
   },
   {
    "duration": 4,
    "start_time": "2024-05-18T22:53:59.094Z"
   },
   {
    "duration": 8,
    "start_time": "2024-05-18T22:54:07.480Z"
   },
   {
    "duration": 7,
    "start_time": "2024-05-18T22:54:23.073Z"
   },
   {
    "duration": 21,
    "start_time": "2024-05-18T22:54:38.534Z"
   },
   {
    "duration": 25,
    "start_time": "2024-05-18T22:54:42.864Z"
   },
   {
    "duration": 3,
    "start_time": "2024-05-18T22:54:50.489Z"
   },
   {
    "duration": 4,
    "start_time": "2024-05-18T23:08:11.057Z"
   },
   {
    "duration": 5,
    "start_time": "2024-05-18T23:19:41.783Z"
   },
   {
    "duration": 5,
    "start_time": "2024-05-18T23:20:15.025Z"
   },
   {
    "duration": 6,
    "start_time": "2024-05-18T23:20:28.660Z"
   },
   {
    "duration": 5,
    "start_time": "2024-05-18T23:20:41.670Z"
   },
   {
    "duration": 6,
    "start_time": "2024-05-18T23:20:47.036Z"
   },
   {
    "duration": 5,
    "start_time": "2024-05-18T23:21:01.524Z"
   },
   {
    "duration": 5,
    "start_time": "2024-05-18T23:21:04.757Z"
   },
   {
    "duration": 5,
    "start_time": "2024-05-18T23:23:42.427Z"
   },
   {
    "duration": 5,
    "start_time": "2024-05-18T23:23:47.035Z"
   },
   {
    "duration": 4,
    "start_time": "2024-05-18T23:23:53.634Z"
   },
   {
    "duration": 5,
    "start_time": "2024-05-18T23:23:57.759Z"
   },
   {
    "duration": 5,
    "start_time": "2024-05-18T23:24:01.840Z"
   },
   {
    "duration": 4,
    "start_time": "2024-05-18T23:24:06.839Z"
   },
   {
    "duration": 5,
    "start_time": "2024-05-18T23:24:24.883Z"
   },
   {
    "duration": 7,
    "start_time": "2024-05-18T23:24:27.983Z"
   },
   {
    "duration": 1224,
    "start_time": "2024-05-18T23:24:43.599Z"
   },
   {
    "duration": 399,
    "start_time": "2024-05-18T23:24:44.826Z"
   },
   {
    "duration": 21,
    "start_time": "2024-05-18T23:24:45.227Z"
   },
   {
    "duration": 17,
    "start_time": "2024-05-18T23:24:45.252Z"
   },
   {
    "duration": 38,
    "start_time": "2024-05-18T23:24:45.273Z"
   },
   {
    "duration": 22,
    "start_time": "2024-05-18T23:24:45.314Z"
   },
   {
    "duration": 20,
    "start_time": "2024-05-18T23:24:45.339Z"
   },
   {
    "duration": 62,
    "start_time": "2024-05-18T23:24:45.362Z"
   },
   {
    "duration": 87,
    "start_time": "2024-05-18T23:24:45.427Z"
   },
   {
    "duration": 56,
    "start_time": "2024-05-18T23:24:45.521Z"
   },
   {
    "duration": 75,
    "start_time": "2024-05-18T23:24:45.580Z"
   },
   {
    "duration": 75,
    "start_time": "2024-05-18T23:24:45.662Z"
   },
   {
    "duration": 71,
    "start_time": "2024-05-18T23:24:45.740Z"
   },
   {
    "duration": 57,
    "start_time": "2024-05-18T23:24:45.814Z"
   },
   {
    "duration": 35,
    "start_time": "2024-05-18T23:24:45.874Z"
   },
   {
    "duration": 8,
    "start_time": "2024-05-18T23:24:45.912Z"
   },
   {
    "duration": 7,
    "start_time": "2024-05-18T23:24:45.923Z"
   },
   {
    "duration": 6,
    "start_time": "2024-05-18T23:24:45.934Z"
   },
   {
    "duration": 21,
    "start_time": "2024-05-18T23:24:45.943Z"
   },
   {
    "duration": 34,
    "start_time": "2024-05-18T23:24:45.969Z"
   },
   {
    "duration": 19,
    "start_time": "2024-05-18T23:24:46.007Z"
   },
   {
    "duration": 5,
    "start_time": "2024-05-18T23:24:46.029Z"
   },
   {
    "duration": 68,
    "start_time": "2024-05-18T23:24:46.038Z"
   },
   {
    "duration": 107,
    "start_time": "2024-05-18T23:24:46.109Z"
   },
   {
    "duration": 24,
    "start_time": "2024-05-18T23:24:46.219Z"
   },
   {
    "duration": 10,
    "start_time": "2024-05-18T23:24:46.247Z"
   },
   {
    "duration": 142,
    "start_time": "2024-05-18T23:24:46.260Z"
   },
   {
    "duration": 21,
    "start_time": "2024-05-18T23:24:46.409Z"
   },
   {
    "duration": 9,
    "start_time": "2024-05-18T23:24:46.436Z"
   },
   {
    "duration": 8,
    "start_time": "2024-05-18T23:24:46.501Z"
   },
   {
    "duration": 7,
    "start_time": "2024-05-18T23:24:46.514Z"
   },
   {
    "duration": 7,
    "start_time": "2024-05-18T23:24:46.525Z"
   },
   {
    "duration": 68,
    "start_time": "2024-05-18T23:24:46.536Z"
   },
   {
    "duration": 5,
    "start_time": "2024-05-18T23:38:32.612Z"
   },
   {
    "duration": 6,
    "start_time": "2024-05-18T23:38:34.830Z"
   },
   {
    "duration": 1143,
    "start_time": "2024-05-18T23:44:00.559Z"
   },
   {
    "duration": 370,
    "start_time": "2024-05-18T23:44:01.706Z"
   },
   {
    "duration": 25,
    "start_time": "2024-05-18T23:44:02.079Z"
   },
   {
    "duration": 12,
    "start_time": "2024-05-18T23:44:02.107Z"
   },
   {
    "duration": 12,
    "start_time": "2024-05-18T23:44:02.125Z"
   },
   {
    "duration": 19,
    "start_time": "2024-05-18T23:44:02.141Z"
   },
   {
    "duration": 56,
    "start_time": "2024-05-18T23:44:02.163Z"
   },
   {
    "duration": 17,
    "start_time": "2024-05-18T23:44:02.222Z"
   },
   {
    "duration": 96,
    "start_time": "2024-05-18T23:44:02.243Z"
   },
   {
    "duration": 81,
    "start_time": "2024-05-18T23:44:02.342Z"
   },
   {
    "duration": 58,
    "start_time": "2024-05-18T23:44:02.426Z"
   },
   {
    "duration": 66,
    "start_time": "2024-05-18T23:44:02.502Z"
   },
   {
    "duration": 68,
    "start_time": "2024-05-18T23:44:02.571Z"
   },
   {
    "duration": 73,
    "start_time": "2024-05-18T23:44:02.647Z"
   },
   {
    "duration": 7,
    "start_time": "2024-05-18T23:44:02.723Z"
   },
   {
    "duration": 7,
    "start_time": "2024-05-18T23:44:02.733Z"
   },
   {
    "duration": 7,
    "start_time": "2024-05-18T23:44:02.743Z"
   },
   {
    "duration": 6,
    "start_time": "2024-05-18T23:44:02.753Z"
   },
   {
    "duration": 16,
    "start_time": "2024-05-18T23:44:02.803Z"
   },
   {
    "duration": 6,
    "start_time": "2024-05-18T23:44:02.822Z"
   },
   {
    "duration": 19,
    "start_time": "2024-05-18T23:44:02.830Z"
   },
   {
    "duration": 52,
    "start_time": "2024-05-18T23:44:02.851Z"
   },
   {
    "duration": 7,
    "start_time": "2024-05-18T23:44:02.908Z"
   },
   {
    "duration": 93,
    "start_time": "2024-05-18T23:44:02.918Z"
   },
   {
    "duration": 17,
    "start_time": "2024-05-18T23:44:03.014Z"
   },
   {
    "duration": 66,
    "start_time": "2024-05-18T23:44:03.034Z"
   },
   {
    "duration": 18,
    "start_time": "2024-05-18T23:44:03.103Z"
   },
   {
    "duration": 86,
    "start_time": "2024-05-18T23:44:03.124Z"
   },
   {
    "duration": 7,
    "start_time": "2024-05-18T23:44:03.212Z"
   },
   {
    "duration": 6,
    "start_time": "2024-05-18T23:44:03.222Z"
   },
   {
    "duration": 75,
    "start_time": "2024-05-18T23:44:03.231Z"
   },
   {
    "duration": 6,
    "start_time": "2024-05-18T23:44:03.308Z"
   },
   {
    "duration": 6,
    "start_time": "2024-05-18T23:44:03.317Z"
   },
   {
    "duration": 4,
    "start_time": "2024-05-19T00:59:52.415Z"
   },
   {
    "duration": 4,
    "start_time": "2024-05-19T01:01:43.041Z"
   },
   {
    "duration": 11,
    "start_time": "2024-05-19T01:03:42.163Z"
   },
   {
    "duration": 11,
    "start_time": "2024-05-19T01:04:52.323Z"
   },
   {
    "duration": 12,
    "start_time": "2024-05-19T01:04:57.864Z"
   },
   {
    "duration": 12,
    "start_time": "2024-05-19T01:05:26.541Z"
   },
   {
    "duration": 11,
    "start_time": "2024-05-19T01:05:52.669Z"
   },
   {
    "duration": 328,
    "start_time": "2024-05-20T02:26:30.176Z"
   },
   {
    "duration": 1215,
    "start_time": "2024-05-20T02:26:36.914Z"
   },
   {
    "duration": 510,
    "start_time": "2024-05-20T02:26:38.133Z"
   },
   {
    "duration": 20,
    "start_time": "2024-05-20T02:26:38.646Z"
   },
   {
    "duration": 16,
    "start_time": "2024-05-20T02:26:38.669Z"
   },
   {
    "duration": 12,
    "start_time": "2024-05-20T02:26:38.704Z"
   },
   {
    "duration": 19,
    "start_time": "2024-05-20T02:26:38.719Z"
   },
   {
    "duration": 20,
    "start_time": "2024-05-20T02:26:38.741Z"
   },
   {
    "duration": 19,
    "start_time": "2024-05-20T02:26:38.803Z"
   },
   {
    "duration": 76,
    "start_time": "2024-05-20T02:26:38.825Z"
   },
   {
    "duration": 53,
    "start_time": "2024-05-20T02:26:38.905Z"
   },
   {
    "duration": 81,
    "start_time": "2024-05-20T02:26:38.961Z"
   },
   {
    "duration": 69,
    "start_time": "2024-05-20T02:26:39.046Z"
   },
   {
    "duration": 63,
    "start_time": "2024-05-20T02:26:39.118Z"
   },
   {
    "duration": 65,
    "start_time": "2024-05-20T02:26:39.207Z"
   },
   {
    "duration": 8,
    "start_time": "2024-05-20T02:26:39.275Z"
   },
   {
    "duration": 21,
    "start_time": "2024-05-20T02:26:39.286Z"
   },
   {
    "duration": 7,
    "start_time": "2024-05-20T02:26:39.310Z"
   },
   {
    "duration": 5,
    "start_time": "2024-05-20T02:26:39.321Z"
   },
   {
    "duration": 17,
    "start_time": "2024-05-20T02:26:39.329Z"
   },
   {
    "duration": 5,
    "start_time": "2024-05-20T02:26:39.349Z"
   },
   {
    "duration": 19,
    "start_time": "2024-05-20T02:26:39.402Z"
   },
   {
    "duration": 5,
    "start_time": "2024-05-20T02:26:39.424Z"
   },
   {
    "duration": 81,
    "start_time": "2024-05-20T02:26:39.431Z"
   },
   {
    "duration": 95,
    "start_time": "2024-05-20T02:26:39.515Z"
   },
   {
    "duration": 15,
    "start_time": "2024-05-20T02:26:39.613Z"
   },
   {
    "duration": 5,
    "start_time": "2024-05-20T02:26:39.631Z"
   },
   {
    "duration": 74,
    "start_time": "2024-05-20T02:26:39.639Z"
   },
   {
    "duration": 89,
    "start_time": "2024-05-20T02:26:39.716Z"
   },
   {
    "duration": 5,
    "start_time": "2024-05-20T02:26:39.808Z"
   },
   {
    "duration": 84,
    "start_time": "2024-05-20T02:26:39.817Z"
   },
   {
    "duration": 7,
    "start_time": "2024-05-20T02:26:39.903Z"
   },
   {
    "duration": 6,
    "start_time": "2024-05-20T02:26:39.913Z"
   },
   {
    "duration": 7,
    "start_time": "2024-05-20T02:26:39.922Z"
   },
   {
    "duration": 74,
    "start_time": "2024-05-20T02:26:39.931Z"
   },
   {
    "duration": 11,
    "start_time": "2024-05-20T02:26:40.009Z"
   },
   {
    "duration": 10,
    "start_time": "2024-05-20T02:26:40.023Z"
   },
   {
    "duration": 11,
    "start_time": "2024-05-20T02:26:40.036Z"
   },
   {
    "duration": 478,
    "start_time": "2024-05-20T02:26:40.050Z"
   },
   {
    "duration": 6,
    "start_time": "2024-05-20T02:27:25.475Z"
   },
   {
    "duration": 4,
    "start_time": "2024-05-20T02:27:29.591Z"
   },
   {
    "duration": 576,
    "start_time": "2024-05-20T02:37:03.362Z"
   },
   {
    "duration": 1198,
    "start_time": "2024-05-20T02:38:04.303Z"
   },
   {
    "duration": 374,
    "start_time": "2024-05-20T02:38:05.505Z"
   },
   {
    "duration": 25,
    "start_time": "2024-05-20T02:38:05.882Z"
   },
   {
    "duration": 14,
    "start_time": "2024-05-20T02:38:05.912Z"
   },
   {
    "duration": 18,
    "start_time": "2024-05-20T02:38:05.929Z"
   },
   {
    "duration": 50,
    "start_time": "2024-05-20T02:38:05.953Z"
   },
   {
    "duration": 20,
    "start_time": "2024-05-20T02:38:06.007Z"
   },
   {
    "duration": 20,
    "start_time": "2024-05-20T02:38:06.030Z"
   },
   {
    "duration": 104,
    "start_time": "2024-05-20T02:38:06.054Z"
   },
   {
    "duration": 78,
    "start_time": "2024-05-20T02:38:06.165Z"
   },
   {
    "duration": 79,
    "start_time": "2024-05-20T02:38:06.247Z"
   },
   {
    "duration": 83,
    "start_time": "2024-05-20T02:38:06.329Z"
   },
   {
    "duration": 56,
    "start_time": "2024-05-20T02:38:06.417Z"
   },
   {
    "duration": 75,
    "start_time": "2024-05-20T02:38:06.476Z"
   },
   {
    "duration": 8,
    "start_time": "2024-05-20T02:38:06.554Z"
   },
   {
    "duration": 6,
    "start_time": "2024-05-20T02:38:06.565Z"
   },
   {
    "duration": 7,
    "start_time": "2024-05-20T02:38:06.602Z"
   },
   {
    "duration": 5,
    "start_time": "2024-05-20T02:38:06.613Z"
   },
   {
    "duration": 16,
    "start_time": "2024-05-20T02:38:06.622Z"
   },
   {
    "duration": 4,
    "start_time": "2024-05-20T02:38:06.641Z"
   },
   {
    "duration": 64,
    "start_time": "2024-05-20T02:38:06.648Z"
   },
   {
    "duration": 14,
    "start_time": "2024-05-20T02:38:06.716Z"
   },
   {
    "duration": 70,
    "start_time": "2024-05-20T02:38:06.733Z"
   },
   {
    "duration": 98,
    "start_time": "2024-05-20T02:38:06.806Z"
   },
   {
    "duration": 15,
    "start_time": "2024-05-20T02:38:06.908Z"
   },
   {
    "duration": 6,
    "start_time": "2024-05-20T02:38:06.925Z"
   },
   {
    "duration": 79,
    "start_time": "2024-05-20T02:38:06.934Z"
   },
   {
    "duration": 90,
    "start_time": "2024-05-20T02:38:07.020Z"
   },
   {
    "duration": 6,
    "start_time": "2024-05-20T02:38:07.113Z"
   },
   {
    "duration": 4,
    "start_time": "2024-05-20T02:38:07.122Z"
   },
   {
    "duration": 74,
    "start_time": "2024-05-20T02:38:07.129Z"
   },
   {
    "duration": 6,
    "start_time": "2024-05-20T02:38:07.206Z"
   },
   {
    "duration": 5,
    "start_time": "2024-05-20T02:38:07.215Z"
   },
   {
    "duration": 78,
    "start_time": "2024-05-20T02:38:07.224Z"
   },
   {
    "duration": 12,
    "start_time": "2024-05-20T02:38:07.306Z"
   },
   {
    "duration": 12,
    "start_time": "2024-05-20T02:38:07.321Z"
   },
   {
    "duration": 68,
    "start_time": "2024-05-20T02:38:07.337Z"
   },
   {
    "duration": 4,
    "start_time": "2024-05-20T02:38:07.408Z"
   },
   {
    "duration": 959,
    "start_time": "2024-05-20T02:38:07.416Z"
   },
   {
    "duration": 173,
    "start_time": "2024-05-20T02:41:27.740Z"
   },
   {
    "duration": 1171,
    "start_time": "2024-05-20T02:43:34.552Z"
   },
   {
    "duration": 398,
    "start_time": "2024-05-20T02:43:35.726Z"
   },
   {
    "duration": 20,
    "start_time": "2024-05-20T02:43:36.127Z"
   },
   {
    "duration": 13,
    "start_time": "2024-05-20T02:43:36.151Z"
   },
   {
    "duration": 45,
    "start_time": "2024-05-20T02:43:36.167Z"
   },
   {
    "duration": 21,
    "start_time": "2024-05-20T02:43:36.216Z"
   },
   {
    "duration": 20,
    "start_time": "2024-05-20T02:43:36.239Z"
   },
   {
    "duration": 56,
    "start_time": "2024-05-20T02:43:36.262Z"
   },
   {
    "duration": 80,
    "start_time": "2024-05-20T02:43:36.322Z"
   },
   {
    "duration": 58,
    "start_time": "2024-05-20T02:43:36.409Z"
   },
   {
    "duration": 76,
    "start_time": "2024-05-20T02:43:36.473Z"
   },
   {
    "duration": 77,
    "start_time": "2024-05-20T02:43:36.552Z"
   },
   {
    "duration": 71,
    "start_time": "2024-05-20T02:43:36.631Z"
   },
   {
    "duration": 66,
    "start_time": "2024-05-20T02:43:36.705Z"
   },
   {
    "duration": 8,
    "start_time": "2024-05-20T02:43:36.774Z"
   },
   {
    "duration": 21,
    "start_time": "2024-05-20T02:43:36.785Z"
   },
   {
    "duration": 7,
    "start_time": "2024-05-20T02:43:36.810Z"
   },
   {
    "duration": 5,
    "start_time": "2024-05-20T02:43:36.820Z"
   },
   {
    "duration": 19,
    "start_time": "2024-05-20T02:43:36.828Z"
   },
   {
    "duration": 52,
    "start_time": "2024-05-20T02:43:36.850Z"
   },
   {
    "duration": 25,
    "start_time": "2024-05-20T02:43:36.905Z"
   },
   {
    "duration": 5,
    "start_time": "2024-05-20T02:43:36.933Z"
   },
   {
    "duration": 63,
    "start_time": "2024-05-20T02:43:36.940Z"
   },
   {
    "duration": 96,
    "start_time": "2024-05-20T02:43:37.006Z"
   },
   {
    "duration": 16,
    "start_time": "2024-05-20T02:43:37.106Z"
   },
   {
    "duration": 6,
    "start_time": "2024-05-20T02:43:37.125Z"
   },
   {
    "duration": 80,
    "start_time": "2024-05-20T02:43:37.135Z"
   },
   {
    "duration": 86,
    "start_time": "2024-05-20T02:43:37.226Z"
   },
   {
    "duration": 6,
    "start_time": "2024-05-20T02:43:37.315Z"
   },
   {
    "duration": 6,
    "start_time": "2024-05-20T02:43:37.324Z"
   },
   {
    "duration": 5,
    "start_time": "2024-05-20T02:43:37.402Z"
   },
   {
    "duration": 5,
    "start_time": "2024-05-20T02:43:37.410Z"
   },
   {
    "duration": 81,
    "start_time": "2024-05-20T02:43:37.419Z"
   },
   {
    "duration": 5,
    "start_time": "2024-05-20T02:43:37.503Z"
   },
   {
    "duration": 446,
    "start_time": "2024-05-20T02:43:37.512Z"
   },
   {
    "duration": 1,
    "start_time": "2024-05-20T02:43:37.961Z"
   },
   {
    "duration": 0,
    "start_time": "2024-05-20T02:43:37.963Z"
   },
   {
    "duration": 0,
    "start_time": "2024-05-20T02:43:37.966Z"
   },
   {
    "duration": 0,
    "start_time": "2024-05-20T02:43:37.968Z"
   },
   {
    "duration": 1191,
    "start_time": "2024-05-20T02:44:09.931Z"
   },
   {
    "duration": 373,
    "start_time": "2024-05-20T02:44:11.126Z"
   },
   {
    "duration": 24,
    "start_time": "2024-05-20T02:44:11.503Z"
   },
   {
    "duration": 13,
    "start_time": "2024-05-20T02:44:11.531Z"
   },
   {
    "duration": 52,
    "start_time": "2024-05-20T02:44:11.550Z"
   },
   {
    "duration": 24,
    "start_time": "2024-05-20T02:44:11.605Z"
   },
   {
    "duration": 24,
    "start_time": "2024-05-20T02:44:11.632Z"
   },
   {
    "duration": 53,
    "start_time": "2024-05-20T02:44:11.659Z"
   },
   {
    "duration": 89,
    "start_time": "2024-05-20T02:44:11.716Z"
   },
   {
    "duration": 56,
    "start_time": "2024-05-20T02:44:11.808Z"
   },
   {
    "duration": 92,
    "start_time": "2024-05-20T02:44:11.867Z"
   },
   {
    "duration": 83,
    "start_time": "2024-05-20T02:44:11.963Z"
   },
   {
    "duration": 74,
    "start_time": "2024-05-20T02:44:12.049Z"
   },
   {
    "duration": 56,
    "start_time": "2024-05-20T02:44:12.130Z"
   },
   {
    "duration": 6,
    "start_time": "2024-05-20T02:44:12.203Z"
   },
   {
    "duration": 8,
    "start_time": "2024-05-20T02:44:12.213Z"
   },
   {
    "duration": 7,
    "start_time": "2024-05-20T02:44:12.224Z"
   },
   {
    "duration": 5,
    "start_time": "2024-05-20T02:44:12.235Z"
   },
   {
    "duration": 61,
    "start_time": "2024-05-20T02:44:12.242Z"
   },
   {
    "duration": 5,
    "start_time": "2024-05-20T02:44:12.306Z"
   },
   {
    "duration": 15,
    "start_time": "2024-05-20T02:44:12.314Z"
   },
   {
    "duration": 69,
    "start_time": "2024-05-20T02:44:12.332Z"
   },
   {
    "duration": 7,
    "start_time": "2024-05-20T02:44:12.409Z"
   },
   {
    "duration": 89,
    "start_time": "2024-05-20T02:44:12.419Z"
   },
   {
    "duration": 16,
    "start_time": "2024-05-20T02:44:12.511Z"
   },
   {
    "duration": 5,
    "start_time": "2024-05-20T02:44:12.530Z"
   },
   {
    "duration": 88,
    "start_time": "2024-05-20T02:44:12.537Z"
   },
   {
    "duration": 90,
    "start_time": "2024-05-20T02:44:12.628Z"
   },
   {
    "duration": 6,
    "start_time": "2024-05-20T02:44:12.721Z"
   },
   {
    "duration": 73,
    "start_time": "2024-05-20T02:44:12.730Z"
   },
   {
    "duration": 5,
    "start_time": "2024-05-20T02:44:12.806Z"
   },
   {
    "duration": 5,
    "start_time": "2024-05-20T02:44:12.814Z"
   },
   {
    "duration": 82,
    "start_time": "2024-05-20T02:44:12.822Z"
   },
   {
    "duration": 6,
    "start_time": "2024-05-20T02:44:12.908Z"
   },
   {
    "duration": 10,
    "start_time": "2024-05-20T02:44:12.917Z"
   },
   {
    "duration": 11,
    "start_time": "2024-05-20T02:44:12.930Z"
   },
   {
    "duration": 59,
    "start_time": "2024-05-20T02:44:12.944Z"
   },
   {
    "duration": 4,
    "start_time": "2024-05-20T02:44:13.006Z"
   },
   {
    "duration": 436,
    "start_time": "2024-05-20T02:44:13.013Z"
   },
   {
    "duration": 27,
    "start_time": "2024-05-20T02:45:47.967Z"
   },
   {
    "duration": 4,
    "start_time": "2024-05-20T02:48:05.723Z"
   },
   {
    "duration": 1169,
    "start_time": "2024-05-20T02:48:16.872Z"
   },
   {
    "duration": 393,
    "start_time": "2024-05-20T02:48:18.044Z"
   },
   {
    "duration": 21,
    "start_time": "2024-05-20T02:48:18.440Z"
   },
   {
    "duration": 36,
    "start_time": "2024-05-20T02:48:18.466Z"
   },
   {
    "duration": 12,
    "start_time": "2024-05-20T02:48:18.505Z"
   },
   {
    "duration": 19,
    "start_time": "2024-05-20T02:48:18.520Z"
   },
   {
    "duration": 19,
    "start_time": "2024-05-20T02:48:18.541Z"
   },
   {
    "duration": 54,
    "start_time": "2024-05-20T02:48:18.564Z"
   },
   {
    "duration": 87,
    "start_time": "2024-05-20T02:48:18.621Z"
   },
   {
    "duration": 58,
    "start_time": "2024-05-20T02:48:18.714Z"
   },
   {
    "duration": 84,
    "start_time": "2024-05-20T02:48:18.776Z"
   },
   {
    "duration": 73,
    "start_time": "2024-05-20T02:48:18.863Z"
   },
   {
    "duration": 69,
    "start_time": "2024-05-20T02:48:18.939Z"
   },
   {
    "duration": 58,
    "start_time": "2024-05-20T02:48:19.011Z"
   },
   {
    "duration": 29,
    "start_time": "2024-05-20T02:48:19.072Z"
   },
   {
    "duration": 6,
    "start_time": "2024-05-20T02:48:19.104Z"
   },
   {
    "duration": 6,
    "start_time": "2024-05-20T02:48:19.114Z"
   },
   {
    "duration": 5,
    "start_time": "2024-05-20T02:48:19.124Z"
   },
   {
    "duration": 18,
    "start_time": "2024-05-20T02:48:19.132Z"
   },
   {
    "duration": 5,
    "start_time": "2024-05-20T02:48:19.153Z"
   },
   {
    "duration": 16,
    "start_time": "2024-05-20T02:48:19.205Z"
   },
   {
    "duration": 4,
    "start_time": "2024-05-20T02:48:19.224Z"
   },
   {
    "duration": 71,
    "start_time": "2024-05-20T02:48:19.234Z"
   },
   {
    "duration": 20,
    "start_time": "2024-05-20T02:48:19.308Z"
   },
   {
    "duration": 15,
    "start_time": "2024-05-20T02:48:19.403Z"
   },
   {
    "duration": 6,
    "start_time": "2024-05-20T02:48:19.421Z"
   },
   {
    "duration": 77,
    "start_time": "2024-05-20T02:48:19.430Z"
   },
   {
    "duration": 87,
    "start_time": "2024-05-20T02:48:19.522Z"
   },
   {
    "duration": 6,
    "start_time": "2024-05-20T02:48:19.612Z"
   },
   {
    "duration": 7,
    "start_time": "2024-05-20T02:48:19.621Z"
   },
   {
    "duration": 5,
    "start_time": "2024-05-20T02:48:19.703Z"
   },
   {
    "duration": 4,
    "start_time": "2024-05-20T02:48:19.711Z"
   },
   {
    "duration": 4,
    "start_time": "2024-05-20T02:48:19.718Z"
   },
   {
    "duration": 78,
    "start_time": "2024-05-20T02:48:19.725Z"
   },
   {
    "duration": 12,
    "start_time": "2024-05-20T02:48:19.807Z"
   },
   {
    "duration": 10,
    "start_time": "2024-05-20T02:48:19.822Z"
   },
   {
    "duration": 11,
    "start_time": "2024-05-20T02:48:19.835Z"
   },
   {
    "duration": 54,
    "start_time": "2024-05-20T02:48:19.849Z"
   },
   {
    "duration": 915,
    "start_time": "2024-05-20T02:49:15.539Z"
   },
   {
    "duration": 29,
    "start_time": "2024-05-20T02:49:29.897Z"
   },
   {
    "duration": 1224,
    "start_time": "2024-05-21T02:42:55.525Z"
   },
   {
    "duration": 522,
    "start_time": "2024-05-21T02:42:56.752Z"
   },
   {
    "duration": 19,
    "start_time": "2024-05-21T02:42:57.279Z"
   },
   {
    "duration": 30,
    "start_time": "2024-05-21T02:42:57.302Z"
   },
   {
    "duration": 12,
    "start_time": "2024-05-21T02:42:57.336Z"
   },
   {
    "duration": 20,
    "start_time": "2024-05-21T02:42:57.351Z"
   },
   {
    "duration": 57,
    "start_time": "2024-05-21T02:42:57.374Z"
   },
   {
    "duration": 18,
    "start_time": "2024-05-21T02:42:57.433Z"
   },
   {
    "duration": 87,
    "start_time": "2024-05-21T02:42:57.454Z"
   },
   {
    "duration": 52,
    "start_time": "2024-05-21T02:42:57.546Z"
   },
   {
    "duration": 75,
    "start_time": "2024-05-21T02:42:57.601Z"
   },
   {
    "duration": 73,
    "start_time": "2024-05-21T02:42:57.679Z"
   },
   {
    "duration": 50,
    "start_time": "2024-05-21T02:42:57.755Z"
   },
   {
    "duration": 71,
    "start_time": "2024-05-21T02:42:57.808Z"
   },
   {
    "duration": 6,
    "start_time": "2024-05-21T02:42:57.882Z"
   },
   {
    "duration": 6,
    "start_time": "2024-05-21T02:42:57.891Z"
   },
   {
    "duration": 7,
    "start_time": "2024-05-21T02:42:57.930Z"
   },
   {
    "duration": 5,
    "start_time": "2024-05-21T02:42:57.940Z"
   },
   {
    "duration": 19,
    "start_time": "2024-05-21T02:42:57.949Z"
   },
   {
    "duration": 5,
    "start_time": "2024-05-21T02:42:57.974Z"
   },
   {
    "duration": 58,
    "start_time": "2024-05-21T02:42:57.982Z"
   },
   {
    "duration": 7,
    "start_time": "2024-05-21T02:42:58.042Z"
   },
   {
    "duration": 6,
    "start_time": "2024-05-21T02:42:58.053Z"
   },
   {
    "duration": 17,
    "start_time": "2024-05-21T02:42:58.132Z"
   },
   {
    "duration": 87,
    "start_time": "2024-05-21T02:42:58.152Z"
   },
   {
    "duration": 10,
    "start_time": "2024-05-21T02:42:58.246Z"
   },
   {
    "duration": 18,
    "start_time": "2024-05-21T02:42:58.333Z"
   },
   {
    "duration": 15,
    "start_time": "2024-05-21T02:42:58.432Z"
   },
   {
    "duration": 7,
    "start_time": "2024-05-21T02:42:58.449Z"
   },
   {
    "duration": 4,
    "start_time": "2024-05-21T02:42:58.459Z"
   },
   {
    "duration": 4,
    "start_time": "2024-05-21T02:42:58.532Z"
   },
   {
    "duration": 6,
    "start_time": "2024-05-21T02:42:58.539Z"
   },
   {
    "duration": 83,
    "start_time": "2024-05-21T02:42:58.548Z"
   },
   {
    "duration": 7,
    "start_time": "2024-05-21T02:42:58.634Z"
   },
   {
    "duration": 12,
    "start_time": "2024-05-21T02:42:58.645Z"
   },
   {
    "duration": 11,
    "start_time": "2024-05-21T02:42:58.660Z"
   },
   {
    "duration": 64,
    "start_time": "2024-05-21T02:42:58.674Z"
   },
   {
    "duration": 4,
    "start_time": "2024-05-21T02:42:58.741Z"
   },
   {
    "duration": 466,
    "start_time": "2024-05-21T02:42:58.749Z"
   },
   {
    "duration": 9,
    "start_time": "2024-05-21T02:48:09.763Z"
   },
   {
    "duration": 5,
    "start_time": "2024-05-21T02:48:18.023Z"
   },
   {
    "duration": 9,
    "start_time": "2024-05-21T02:49:08.471Z"
   },
   {
    "duration": 4,
    "start_time": "2024-05-21T02:49:46.558Z"
   },
   {
    "duration": 1170,
    "start_time": "2024-05-21T02:52:13.071Z"
   },
   {
    "duration": 364,
    "start_time": "2024-05-21T02:52:14.245Z"
   },
   {
    "duration": 25,
    "start_time": "2024-05-21T02:52:14.612Z"
   },
   {
    "duration": 12,
    "start_time": "2024-05-21T02:52:14.643Z"
   },
   {
    "duration": 12,
    "start_time": "2024-05-21T02:52:14.659Z"
   },
   {
    "duration": 18,
    "start_time": "2024-05-21T02:52:14.675Z"
   },
   {
    "duration": 18,
    "start_time": "2024-05-21T02:52:14.731Z"
   },
   {
    "duration": 19,
    "start_time": "2024-05-21T02:52:14.752Z"
   },
   {
    "duration": 99,
    "start_time": "2024-05-21T02:52:14.774Z"
   },
   {
    "duration": 80,
    "start_time": "2024-05-21T02:52:14.880Z"
   },
   {
    "duration": 69,
    "start_time": "2024-05-21T02:52:14.963Z"
   },
   {
    "duration": 56,
    "start_time": "2024-05-21T02:52:15.035Z"
   },
   {
    "duration": 71,
    "start_time": "2024-05-21T02:52:15.093Z"
   },
   {
    "duration": 66,
    "start_time": "2024-05-21T02:52:15.167Z"
   },
   {
    "duration": 7,
    "start_time": "2024-05-21T02:52:15.236Z"
   },
   {
    "duration": 7,
    "start_time": "2024-05-21T02:52:15.246Z"
   },
   {
    "duration": 7,
    "start_time": "2024-05-21T02:52:15.256Z"
   },
   {
    "duration": 5,
    "start_time": "2024-05-21T02:52:15.266Z"
   },
   {
    "duration": 61,
    "start_time": "2024-05-21T02:52:15.274Z"
   },
   {
    "duration": 5,
    "start_time": "2024-05-21T02:52:15.338Z"
   },
   {
    "duration": 20,
    "start_time": "2024-05-21T02:52:15.347Z"
   },
   {
    "duration": 5,
    "start_time": "2024-05-21T02:52:15.370Z"
   },
   {
    "duration": 6,
    "start_time": "2024-05-21T02:52:15.432Z"
   },
   {
    "duration": 93,
    "start_time": "2024-05-21T02:52:15.441Z"
   },
   {
    "duration": 14,
    "start_time": "2024-05-21T02:52:15.537Z"
   },
   {
    "duration": 6,
    "start_time": "2024-05-21T02:52:15.554Z"
   },
   {
    "duration": 80,
    "start_time": "2024-05-21T02:52:15.563Z"
   },
   {
    "duration": 86,
    "start_time": "2024-05-21T02:52:15.650Z"
   },
   {
    "duration": 6,
    "start_time": "2024-05-21T02:52:15.739Z"
   },
   {
    "duration": 5,
    "start_time": "2024-05-21T02:52:15.748Z"
   },
   {
    "duration": 76,
    "start_time": "2024-05-21T02:52:15.757Z"
   },
   {
    "duration": 8,
    "start_time": "2024-05-21T02:52:15.836Z"
   },
   {
    "duration": 4,
    "start_time": "2024-05-21T02:52:15.847Z"
   },
   {
    "duration": 413,
    "start_time": "2024-05-21T02:52:15.932Z"
   },
   {
    "duration": 0,
    "start_time": "2024-05-21T02:52:16.348Z"
   },
   {
    "duration": 0,
    "start_time": "2024-05-21T02:52:16.350Z"
   },
   {
    "duration": 0,
    "start_time": "2024-05-21T02:52:16.352Z"
   },
   {
    "duration": 0,
    "start_time": "2024-05-21T02:52:16.355Z"
   },
   {
    "duration": 24,
    "start_time": "2024-05-21T02:52:53.905Z"
   },
   {
    "duration": 5,
    "start_time": "2024-05-21T02:53:08.668Z"
   },
   {
    "duration": 4,
    "start_time": "2024-05-21T02:54:23.852Z"
   },
   {
    "duration": 5,
    "start_time": "2024-05-21T02:54:29.172Z"
   },
   {
    "duration": 5,
    "start_time": "2024-05-21T02:54:29.427Z"
   },
   {
    "duration": 4,
    "start_time": "2024-05-21T02:54:29.794Z"
   },
   {
    "duration": 4,
    "start_time": "2024-05-21T02:54:31.900Z"
   },
   {
    "duration": 11,
    "start_time": "2024-05-21T02:54:32.465Z"
   },
   {
    "duration": 24,
    "start_time": "2024-05-21T02:57:24.365Z"
   },
   {
    "duration": 7,
    "start_time": "2024-05-21T02:58:02.798Z"
   },
   {
    "duration": 7,
    "start_time": "2024-05-21T02:58:19.197Z"
   },
   {
    "duration": 16,
    "start_time": "2024-05-21T03:00:46.092Z"
   },
   {
    "duration": 10,
    "start_time": "2024-05-21T03:01:12.597Z"
   },
   {
    "duration": 5,
    "start_time": "2024-05-21T03:01:20.620Z"
   },
   {
    "duration": 10,
    "start_time": "2024-05-21T03:06:13.901Z"
   },
   {
    "duration": 11,
    "start_time": "2024-05-21T03:06:32.057Z"
   },
   {
    "duration": 11,
    "start_time": "2024-05-21T03:07:10.246Z"
   },
   {
    "duration": 10,
    "start_time": "2024-05-21T03:07:48.654Z"
   },
   {
    "duration": 29,
    "start_time": "2024-05-21T03:12:42.718Z"
   },
   {
    "duration": 4,
    "start_time": "2024-05-21T03:12:48.136Z"
   },
   {
    "duration": 1660,
    "start_time": "2024-05-21T03:12:49.661Z"
   },
   {
    "duration": 1188,
    "start_time": "2024-05-21T03:12:55.972Z"
   },
   {
    "duration": 376,
    "start_time": "2024-05-21T03:12:57.163Z"
   },
   {
    "duration": 20,
    "start_time": "2024-05-21T03:12:57.541Z"
   },
   {
    "duration": 12,
    "start_time": "2024-05-21T03:12:57.565Z"
   },
   {
    "duration": 12,
    "start_time": "2024-05-21T03:12:57.584Z"
   },
   {
    "duration": 49,
    "start_time": "2024-05-21T03:12:57.599Z"
   },
   {
    "duration": 20,
    "start_time": "2024-05-21T03:12:57.650Z"
   },
   {
    "duration": 18,
    "start_time": "2024-05-21T03:12:57.673Z"
   },
   {
    "duration": 60,
    "start_time": "2024-05-21T03:12:57.732Z"
   },
   {
    "duration": 74,
    "start_time": "2024-05-21T03:12:57.795Z"
   },
   {
    "duration": 80,
    "start_time": "2024-05-21T03:12:57.875Z"
   },
   {
    "duration": 77,
    "start_time": "2024-05-21T03:12:57.958Z"
   },
   {
    "duration": 56,
    "start_time": "2024-05-21T03:12:58.038Z"
   },
   {
    "duration": 75,
    "start_time": "2024-05-21T03:12:58.101Z"
   },
   {
    "duration": 6,
    "start_time": "2024-05-21T03:12:58.179Z"
   },
   {
    "duration": 7,
    "start_time": "2024-05-21T03:12:58.189Z"
   },
   {
    "duration": 36,
    "start_time": "2024-05-21T03:12:58.198Z"
   },
   {
    "duration": 6,
    "start_time": "2024-05-21T03:12:58.237Z"
   },
   {
    "duration": 18,
    "start_time": "2024-05-21T03:12:58.246Z"
   },
   {
    "duration": 5,
    "start_time": "2024-05-21T03:12:58.268Z"
   },
   {
    "duration": 62,
    "start_time": "2024-05-21T03:12:58.277Z"
   },
   {
    "duration": 5,
    "start_time": "2024-05-21T03:12:58.342Z"
   },
   {
    "duration": 6,
    "start_time": "2024-05-21T03:12:58.351Z"
   },
   {
    "duration": 21,
    "start_time": "2024-05-21T03:12:58.432Z"
   },
   {
    "duration": 86,
    "start_time": "2024-05-21T03:12:58.455Z"
   },
   {
    "duration": 6,
    "start_time": "2024-05-21T03:12:58.545Z"
   },
   {
    "duration": 88,
    "start_time": "2024-05-21T03:12:58.554Z"
   },
   {
    "duration": 87,
    "start_time": "2024-05-21T03:12:58.650Z"
   },
   {
    "duration": 9,
    "start_time": "2024-05-21T03:12:58.746Z"
   },
   {
    "duration": 10,
    "start_time": "2024-05-21T03:12:58.831Z"
   },
   {
    "duration": 5,
    "start_time": "2024-05-21T03:12:58.843Z"
   },
   {
    "duration": 79,
    "start_time": "2024-05-21T03:12:58.851Z"
   },
   {
    "duration": 5,
    "start_time": "2024-05-21T03:12:58.934Z"
   },
   {
    "duration": 5,
    "start_time": "2024-05-21T03:12:58.943Z"
   },
   {
    "duration": 5,
    "start_time": "2024-05-21T03:12:58.952Z"
   },
   {
    "duration": 12,
    "start_time": "2024-05-21T03:12:58.960Z"
   },
   {
    "duration": 60,
    "start_time": "2024-05-21T03:12:58.975Z"
   },
   {
    "duration": 13,
    "start_time": "2024-05-21T03:12:59.039Z"
   },
   {
    "duration": 5,
    "start_time": "2024-05-21T03:12:59.055Z"
   },
   {
    "duration": 1656,
    "start_time": "2024-05-21T03:12:59.064Z"
   },
   {
    "duration": 4,
    "start_time": "2024-05-21T03:14:33.726Z"
   },
   {
    "duration": 5,
    "start_time": "2024-05-21T03:15:05.039Z"
   },
   {
    "duration": 6,
    "start_time": "2024-05-21T03:15:23.623Z"
   },
   {
    "duration": 4,
    "start_time": "2024-05-21T03:16:05.107Z"
   },
   {
    "duration": 5,
    "start_time": "2024-05-21T03:17:09.284Z"
   },
   {
    "duration": 5,
    "start_time": "2024-05-21T03:22:49.628Z"
   },
   {
    "duration": 7,
    "start_time": "2024-05-21T03:23:52.468Z"
   },
   {
    "duration": 7,
    "start_time": "2024-05-21T03:24:14.794Z"
   },
   {
    "duration": 8,
    "start_time": "2024-05-22T01:53:11.978Z"
   },
   {
    "duration": 3,
    "start_time": "2024-05-22T01:54:16.729Z"
   },
   {
    "duration": 3,
    "start_time": "2024-05-22T02:08:59.043Z"
   },
   {
    "duration": 7,
    "start_time": "2024-05-22T02:10:45.759Z"
   },
   {
    "duration": 322,
    "start_time": "2024-05-22T02:10:59.510Z"
   },
   {
    "duration": 1722,
    "start_time": "2024-05-22T02:11:06.319Z"
   },
   {
    "duration": 506,
    "start_time": "2024-05-22T02:11:08.044Z"
   },
   {
    "duration": 24,
    "start_time": "2024-05-22T02:11:08.553Z"
   },
   {
    "duration": 20,
    "start_time": "2024-05-22T02:11:08.580Z"
   },
   {
    "duration": 29,
    "start_time": "2024-05-22T02:11:08.606Z"
   },
   {
    "duration": 18,
    "start_time": "2024-05-22T02:11:08.639Z"
   },
   {
    "duration": 18,
    "start_time": "2024-05-22T02:11:08.660Z"
   },
   {
    "duration": 57,
    "start_time": "2024-05-22T02:11:08.681Z"
   },
   {
    "duration": 62,
    "start_time": "2024-05-22T02:11:08.741Z"
   },
   {
    "duration": 76,
    "start_time": "2024-05-22T02:11:08.806Z"
   },
   {
    "duration": 78,
    "start_time": "2024-05-22T02:11:08.884Z"
   },
   {
    "duration": 70,
    "start_time": "2024-05-22T02:11:08.964Z"
   },
   {
    "duration": 51,
    "start_time": "2024-05-22T02:11:09.038Z"
   },
   {
    "duration": 79,
    "start_time": "2024-05-22T02:11:09.097Z"
   },
   {
    "duration": 6,
    "start_time": "2024-05-22T02:11:09.179Z"
   },
   {
    "duration": 7,
    "start_time": "2024-05-22T02:11:09.187Z"
   },
   {
    "duration": 34,
    "start_time": "2024-05-22T02:11:09.197Z"
   },
   {
    "duration": 5,
    "start_time": "2024-05-22T02:11:09.235Z"
   },
   {
    "duration": 16,
    "start_time": "2024-05-22T02:11:09.243Z"
   },
   {
    "duration": 5,
    "start_time": "2024-05-22T02:11:09.261Z"
   },
   {
    "duration": 40,
    "start_time": "2024-05-22T02:11:09.269Z"
   },
   {
    "duration": 5,
    "start_time": "2024-05-22T02:11:09.331Z"
   },
   {
    "duration": 7,
    "start_time": "2024-05-22T02:11:09.339Z"
   },
   {
    "duration": 90,
    "start_time": "2024-05-22T02:11:09.349Z"
   },
   {
    "duration": 15,
    "start_time": "2024-05-22T02:11:09.444Z"
   },
   {
    "duration": 5,
    "start_time": "2024-05-22T02:11:09.462Z"
   },
   {
    "duration": 20,
    "start_time": "2024-05-22T02:11:09.530Z"
   },
   {
    "duration": 82,
    "start_time": "2024-05-22T02:11:09.555Z"
   },
   {
    "duration": 9,
    "start_time": "2024-05-22T02:11:09.643Z"
   },
   {
    "duration": 4,
    "start_time": "2024-05-22T02:11:09.655Z"
   },
   {
    "duration": 72,
    "start_time": "2024-05-22T02:11:09.661Z"
   },
   {
    "duration": 5,
    "start_time": "2024-05-22T02:11:09.736Z"
   },
   {
    "duration": 9,
    "start_time": "2024-05-22T02:11:09.747Z"
   },
   {
    "duration": 6,
    "start_time": "2024-05-22T02:11:09.830Z"
   },
   {
    "duration": 5,
    "start_time": "2024-05-22T02:11:09.840Z"
   },
   {
    "duration": 5,
    "start_time": "2024-05-22T02:11:09.848Z"
   },
   {
    "duration": 11,
    "start_time": "2024-05-22T02:11:09.856Z"
   },
   {
    "duration": 61,
    "start_time": "2024-05-22T02:11:09.870Z"
   },
   {
    "duration": 10,
    "start_time": "2024-05-22T02:11:09.933Z"
   },
   {
    "duration": 4,
    "start_time": "2024-05-22T02:11:09.947Z"
   },
   {
    "duration": 1688,
    "start_time": "2024-05-22T02:11:09.960Z"
   },
   {
    "duration": 5,
    "start_time": "2024-05-22T02:11:11.650Z"
   },
   {
    "duration": 5,
    "start_time": "2024-05-22T02:11:11.658Z"
   },
   {
    "duration": 9,
    "start_time": "2024-05-22T02:11:11.667Z"
   },
   {
    "duration": 7,
    "start_time": "2024-05-22T02:11:28.908Z"
   },
   {
    "duration": 5,
    "start_time": "2024-05-22T02:11:29.578Z"
   },
   {
    "duration": 6,
    "start_time": "2024-05-22T02:11:51.555Z"
   },
   {
    "duration": 6,
    "start_time": "2024-05-22T02:12:04.133Z"
   },
   {
    "duration": 5,
    "start_time": "2024-05-22T02:12:23.704Z"
   },
   {
    "duration": 5,
    "start_time": "2024-05-22T02:12:34.823Z"
   },
   {
    "duration": 4,
    "start_time": "2024-05-22T02:12:50.936Z"
   },
   {
    "duration": 8,
    "start_time": "2024-05-22T02:23:37.639Z"
   },
   {
    "duration": 192,
    "start_time": "2024-05-22T02:24:01.403Z"
   },
   {
    "duration": 21,
    "start_time": "2024-05-22T02:24:06.575Z"
   },
   {
    "duration": 226,
    "start_time": "2024-05-22T02:26:50.840Z"
   },
   {
    "duration": 5,
    "start_time": "2024-05-22T02:32:00.709Z"
   },
   {
    "duration": 6,
    "start_time": "2024-05-22T02:32:01.047Z"
   },
   {
    "duration": 5,
    "start_time": "2024-05-22T02:34:32.077Z"
   },
   {
    "duration": 4,
    "start_time": "2024-05-22T02:34:53.097Z"
   },
   {
    "duration": 5,
    "start_time": "2024-05-22T02:40:30.713Z"
   },
   {
    "duration": 6,
    "start_time": "2024-05-22T02:45:32.970Z"
   },
   {
    "duration": 5,
    "start_time": "2024-05-22T02:45:55.230Z"
   },
   {
    "duration": 19,
    "start_time": "2024-05-22T02:46:37.065Z"
   },
   {
    "duration": 7,
    "start_time": "2024-05-22T02:47:22.103Z"
   },
   {
    "duration": 6,
    "start_time": "2024-05-22T02:47:34.235Z"
   },
   {
    "duration": 11,
    "start_time": "2024-05-22T02:47:34.685Z"
   },
   {
    "duration": 10,
    "start_time": "2024-05-22T02:48:36.008Z"
   },
   {
    "duration": 11,
    "start_time": "2024-05-22T02:48:51.103Z"
   },
   {
    "duration": 4,
    "start_time": "2024-05-22T02:51:29.200Z"
   },
   {
    "duration": 2126,
    "start_time": "2024-05-22T02:51:29.884Z"
   },
   {
    "duration": 10,
    "start_time": "2024-05-22T03:11:53.643Z"
   },
   {
    "duration": 67,
    "start_time": "2024-05-22T03:11:54.405Z"
   },
   {
    "duration": 40,
    "start_time": "2024-05-22T03:12:44.487Z"
   },
   {
    "duration": 6,
    "start_time": "2024-05-22T03:12:53.280Z"
   },
   {
    "duration": 30,
    "start_time": "2024-05-22T03:12:53.835Z"
   },
   {
    "duration": 11,
    "start_time": "2024-05-22T03:13:03.534Z"
   },
   {
    "duration": 12,
    "start_time": "2024-05-22T03:14:12.637Z"
   },
   {
    "duration": 11,
    "start_time": "2024-05-22T03:15:28.942Z"
   },
   {
    "duration": 6,
    "start_time": "2024-05-22T03:15:45.851Z"
   },
   {
    "duration": 11,
    "start_time": "2024-05-22T03:16:03.556Z"
   },
   {
    "duration": 5,
    "start_time": "2024-05-22T03:19:12.411Z"
   },
   {
    "duration": 14,
    "start_time": "2024-05-22T03:19:12.832Z"
   },
   {
    "duration": 11,
    "start_time": "2024-05-22T03:19:41.255Z"
   },
   {
    "duration": 11,
    "start_time": "2024-05-22T03:20:08.283Z"
   },
   {
    "duration": 1937,
    "start_time": "2024-05-22T03:20:43.583Z"
   },
   {
    "duration": 4,
    "start_time": "2024-05-22T03:20:49.380Z"
   },
   {
    "duration": 4,
    "start_time": "2024-05-22T03:20:50.003Z"
   },
   {
    "duration": 4144,
    "start_time": "2024-05-22T03:22:54.354Z"
   },
   {
    "duration": 8,
    "start_time": "2024-05-22T03:23:35.164Z"
   },
   {
    "duration": 316,
    "start_time": "2024-05-23T02:21:14.910Z"
   },
   {
    "duration": 1190,
    "start_time": "2024-05-23T02:21:25.477Z"
   },
   {
    "duration": 543,
    "start_time": "2024-05-23T02:21:26.676Z"
   },
   {
    "duration": 22,
    "start_time": "2024-05-23T02:21:27.221Z"
   },
   {
    "duration": 14,
    "start_time": "2024-05-23T02:21:27.246Z"
   },
   {
    "duration": 15,
    "start_time": "2024-05-23T02:21:27.265Z"
   },
   {
    "duration": 55,
    "start_time": "2024-05-23T02:21:27.284Z"
   },
   {
    "duration": 19,
    "start_time": "2024-05-23T02:21:27.342Z"
   },
   {
    "duration": 20,
    "start_time": "2024-05-23T02:21:27.364Z"
   },
   {
    "duration": 92,
    "start_time": "2024-05-23T02:21:27.388Z"
   },
   {
    "duration": 66,
    "start_time": "2024-05-23T02:21:27.484Z"
   },
   {
    "duration": 57,
    "start_time": "2024-05-23T02:21:27.553Z"
   },
   {
    "duration": 72,
    "start_time": "2024-05-23T02:21:27.632Z"
   },
   {
    "duration": 65,
    "start_time": "2024-05-23T02:21:27.709Z"
   },
   {
    "duration": 78,
    "start_time": "2024-05-23T02:21:27.782Z"
   },
   {
    "duration": 7,
    "start_time": "2024-05-23T02:21:27.864Z"
   },
   {
    "duration": 8,
    "start_time": "2024-05-23T02:21:27.875Z"
   },
   {
    "duration": 9,
    "start_time": "2024-05-23T02:21:27.887Z"
   },
   {
    "duration": 33,
    "start_time": "2024-05-23T02:21:27.899Z"
   },
   {
    "duration": 16,
    "start_time": "2024-05-23T02:21:27.935Z"
   },
   {
    "duration": 5,
    "start_time": "2024-05-23T02:21:27.954Z"
   },
   {
    "duration": 74,
    "start_time": "2024-05-23T02:21:27.962Z"
   },
   {
    "duration": 8,
    "start_time": "2024-05-23T02:21:28.039Z"
   },
   {
    "duration": 6,
    "start_time": "2024-05-23T02:21:28.050Z"
   },
   {
    "duration": 82,
    "start_time": "2024-05-23T02:21:28.059Z"
   },
   {
    "duration": 17,
    "start_time": "2024-05-23T02:21:28.144Z"
   },
   {
    "duration": 6,
    "start_time": "2024-05-23T02:21:28.163Z"
   },
   {
    "duration": 65,
    "start_time": "2024-05-23T02:21:28.172Z"
   },
   {
    "duration": 91,
    "start_time": "2024-05-23T02:21:28.240Z"
   },
   {
    "duration": 6,
    "start_time": "2024-05-23T02:21:28.337Z"
   },
   {
    "duration": 4,
    "start_time": "2024-05-23T02:21:28.346Z"
   },
   {
    "duration": 7,
    "start_time": "2024-05-23T02:21:28.353Z"
   },
   {
    "duration": 73,
    "start_time": "2024-05-23T02:21:28.362Z"
   },
   {
    "duration": 5,
    "start_time": "2024-05-23T02:21:28.440Z"
   },
   {
    "duration": 6,
    "start_time": "2024-05-23T02:21:28.449Z"
   },
   {
    "duration": 6,
    "start_time": "2024-05-23T02:21:28.458Z"
   },
   {
    "duration": 7,
    "start_time": "2024-05-23T02:21:28.468Z"
   },
   {
    "duration": 63,
    "start_time": "2024-05-23T02:21:28.478Z"
   },
   {
    "duration": 12,
    "start_time": "2024-05-23T02:21:28.544Z"
   },
   {
    "duration": 13,
    "start_time": "2024-05-23T02:21:28.559Z"
   },
   {
    "duration": 6,
    "start_time": "2024-05-23T02:21:28.577Z"
   },
   {
    "duration": 434,
    "start_time": "2024-05-23T02:21:28.630Z"
   },
   {
    "duration": 0,
    "start_time": "2024-05-23T02:21:29.067Z"
   },
   {
    "duration": 0,
    "start_time": "2024-05-23T02:21:29.070Z"
   },
   {
    "duration": 0,
    "start_time": "2024-05-23T02:21:29.072Z"
   },
   {
    "duration": 0,
    "start_time": "2024-05-23T02:21:29.075Z"
   },
   {
    "duration": 0,
    "start_time": "2024-05-23T02:21:29.077Z"
   },
   {
    "duration": 1837,
    "start_time": "2024-05-23T02:22:20.247Z"
   },
   {
    "duration": 4,
    "start_time": "2024-05-23T02:22:24.322Z"
   },
   {
    "duration": 4210,
    "start_time": "2024-05-23T02:22:25.078Z"
   },
   {
    "duration": 5,
    "start_time": "2024-05-23T02:22:33.988Z"
   },
   {
    "duration": 9,
    "start_time": "2024-05-23T02:22:34.576Z"
   },
   {
    "duration": 6,
    "start_time": "2024-05-23T02:22:35.120Z"
   },
   {
    "duration": 141,
    "start_time": "2024-05-23T02:23:13.812Z"
   },
   {
    "duration": 6,
    "start_time": "2024-05-23T02:23:58.448Z"
   },
   {
    "duration": 43,
    "start_time": "2024-05-23T02:23:59.154Z"
   },
   {
    "duration": 6,
    "start_time": "2024-05-23T02:24:12.342Z"
   },
   {
    "duration": 12,
    "start_time": "2024-05-23T02:24:12.855Z"
   },
   {
    "duration": 9,
    "start_time": "2024-05-23T02:25:35.065Z"
   },
   {
    "duration": 11,
    "start_time": "2024-05-23T02:25:35.451Z"
   },
   {
    "duration": 5,
    "start_time": "2024-05-23T02:25:58.145Z"
   },
   {
    "duration": 5,
    "start_time": "2024-05-23T02:27:38.250Z"
   },
   {
    "duration": 40,
    "start_time": "2024-05-23T02:27:38.700Z"
   },
   {
    "duration": 6,
    "start_time": "2024-05-23T02:27:51.567Z"
   },
   {
    "duration": 18,
    "start_time": "2024-05-23T02:27:52.042Z"
   },
   {
    "duration": 6,
    "start_time": "2024-05-23T02:27:53.992Z"
   },
   {
    "duration": 7,
    "start_time": "2024-05-23T02:28:14.112Z"
   },
   {
    "duration": 11,
    "start_time": "2024-05-23T02:28:14.705Z"
   },
   {
    "duration": 7,
    "start_time": "2024-05-23T02:32:21.923Z"
   },
   {
    "duration": 11,
    "start_time": "2024-05-23T02:32:22.652Z"
   },
   {
    "duration": 6,
    "start_time": "2024-05-23T02:33:43.363Z"
   },
   {
    "duration": 13,
    "start_time": "2024-05-23T02:33:43.737Z"
   },
   {
    "duration": 1169,
    "start_time": "2024-05-24T00:53:38.388Z"
   },
   {
    "duration": 510,
    "start_time": "2024-05-24T00:53:39.561Z"
   },
   {
    "duration": 19,
    "start_time": "2024-05-24T00:53:40.074Z"
   },
   {
    "duration": 34,
    "start_time": "2024-05-24T00:53:40.096Z"
   },
   {
    "duration": 15,
    "start_time": "2024-05-24T00:53:40.135Z"
   },
   {
    "duration": 21,
    "start_time": "2024-05-24T00:53:40.153Z"
   },
   {
    "duration": 54,
    "start_time": "2024-05-24T00:53:40.178Z"
   },
   {
    "duration": 18,
    "start_time": "2024-05-24T00:53:40.234Z"
   },
   {
    "duration": 81,
    "start_time": "2024-05-24T00:53:40.254Z"
   },
   {
    "duration": 53,
    "start_time": "2024-05-24T00:53:40.338Z"
   },
   {
    "duration": 77,
    "start_time": "2024-05-24T00:53:40.393Z"
   },
   {
    "duration": 68,
    "start_time": "2024-05-24T00:53:40.474Z"
   },
   {
    "duration": 51,
    "start_time": "2024-05-24T00:53:40.545Z"
   },
   {
    "duration": 79,
    "start_time": "2024-05-24T00:53:40.603Z"
   },
   {
    "duration": 6,
    "start_time": "2024-05-24T00:53:40.685Z"
   },
   {
    "duration": 7,
    "start_time": "2024-05-24T00:53:40.695Z"
   },
   {
    "duration": 6,
    "start_time": "2024-05-24T00:53:40.731Z"
   },
   {
    "duration": 5,
    "start_time": "2024-05-24T00:53:40.740Z"
   },
   {
    "duration": 15,
    "start_time": "2024-05-24T00:53:40.748Z"
   },
   {
    "duration": 7,
    "start_time": "2024-05-24T00:53:40.766Z"
   },
   {
    "duration": 59,
    "start_time": "2024-05-24T00:53:40.776Z"
   },
   {
    "duration": 4,
    "start_time": "2024-05-24T00:53:40.838Z"
   },
   {
    "duration": 5,
    "start_time": "2024-05-24T00:53:40.845Z"
   },
   {
    "duration": 96,
    "start_time": "2024-05-24T00:53:40.853Z"
   },
   {
    "duration": 88,
    "start_time": "2024-05-24T00:53:40.953Z"
   },
   {
    "duration": 7,
    "start_time": "2024-05-24T00:53:41.045Z"
   },
   {
    "duration": 88,
    "start_time": "2024-05-24T00:53:41.055Z"
   },
   {
    "duration": 88,
    "start_time": "2024-05-24T00:53:41.146Z"
   },
   {
    "duration": 5,
    "start_time": "2024-05-24T00:53:41.237Z"
   },
   {
    "duration": 4,
    "start_time": "2024-05-24T00:53:41.245Z"
   },
   {
    "duration": 80,
    "start_time": "2024-05-24T00:53:41.251Z"
   },
   {
    "duration": 9,
    "start_time": "2024-05-24T00:53:41.335Z"
   },
   {
    "duration": 6,
    "start_time": "2024-05-24T00:53:41.347Z"
   },
   {
    "duration": 6,
    "start_time": "2024-05-24T00:53:41.430Z"
   },
   {
    "duration": 5,
    "start_time": "2024-05-24T00:53:41.439Z"
   },
   {
    "duration": 5,
    "start_time": "2024-05-24T00:53:41.448Z"
   },
   {
    "duration": 12,
    "start_time": "2024-05-24T00:53:41.457Z"
   },
   {
    "duration": 59,
    "start_time": "2024-05-24T00:53:41.473Z"
   },
   {
    "duration": 12,
    "start_time": "2024-05-24T00:53:41.535Z"
   },
   {
    "duration": 4,
    "start_time": "2024-05-24T00:53:41.550Z"
   },
   {
    "duration": 1841,
    "start_time": "2024-05-24T00:53:41.562Z"
   },
   {
    "duration": 5,
    "start_time": "2024-05-24T00:53:43.406Z"
   },
   {
    "duration": 4086,
    "start_time": "2024-05-24T00:53:43.431Z"
   },
   {
    "duration": 11,
    "start_time": "2024-05-24T00:53:47.520Z"
   },
   {
    "duration": 8,
    "start_time": "2024-05-24T00:53:47.534Z"
   },
   {
    "duration": 7,
    "start_time": "2024-05-24T00:53:47.545Z"
   },
   {
    "duration": 10,
    "start_time": "2024-05-24T00:53:47.555Z"
   },
   {
    "duration": 1677,
    "start_time": "2024-05-24T00:55:14.353Z"
   },
   {
    "duration": 13,
    "start_time": "2024-05-24T00:55:16.034Z"
   },
   {
    "duration": 214,
    "start_time": "2024-05-24T00:55:16.052Z"
   },
   {
    "duration": 4,
    "start_time": "2024-05-24T00:55:33.309Z"
   },
   {
    "duration": 7,
    "start_time": "2024-05-24T00:55:33.725Z"
   },
   {
    "duration": 6,
    "start_time": "2024-05-24T00:55:34.217Z"
   },
   {
    "duration": 1686,
    "start_time": "2024-05-24T00:55:46.544Z"
   },
   {
    "duration": 4,
    "start_time": "2024-05-24T00:55:48.233Z"
   },
   {
    "duration": 208,
    "start_time": "2024-05-24T00:55:48.240Z"
   },
   {
    "duration": 5,
    "start_time": "2024-05-24T01:01:14.584Z"
   },
   {
    "duration": 501,
    "start_time": "2024-05-24T01:02:21.801Z"
   },
   {
    "duration": 38,
    "start_time": "2024-05-24T01:02:31.611Z"
   },
   {
    "duration": 25,
    "start_time": "2024-05-24T01:03:58.373Z"
   },
   {
    "duration": 1706,
    "start_time": "2024-05-24T01:04:25.958Z"
   },
   {
    "duration": 5,
    "start_time": "2024-05-24T01:04:37.980Z"
   },
   {
    "duration": 1711,
    "start_time": "2024-05-24T01:04:38.650Z"
   },
   {
    "duration": 215,
    "start_time": "2024-05-24T01:04:52.308Z"
   },
   {
    "duration": 5,
    "start_time": "2024-05-24T01:05:02.346Z"
   },
   {
    "duration": 6,
    "start_time": "2024-05-24T01:05:20.954Z"
   },
   {
    "duration": 7,
    "start_time": "2024-05-24T01:05:51.151Z"
   },
   {
    "duration": 13,
    "start_time": "2024-05-24T01:06:00.573Z"
   },
   {
    "duration": 7,
    "start_time": "2024-05-24T01:10:54.564Z"
   },
   {
    "duration": 6,
    "start_time": "2024-05-24T01:11:09.341Z"
   },
   {
    "duration": 13,
    "start_time": "2024-05-24T01:12:51.601Z"
   },
   {
    "duration": 8,
    "start_time": "2024-05-24T01:13:57.909Z"
   },
   {
    "duration": 7,
    "start_time": "2024-05-24T01:14:06.059Z"
   },
   {
    "duration": 7,
    "start_time": "2024-05-24T01:14:16.916Z"
   },
   {
    "duration": 8,
    "start_time": "2024-05-24T01:14:48.703Z"
   },
   {
    "duration": 24,
    "start_time": "2024-05-24T01:15:15.416Z"
   },
   {
    "duration": 3,
    "start_time": "2024-05-24T01:15:38.045Z"
   },
   {
    "duration": 1691,
    "start_time": "2024-05-24T01:16:08.541Z"
   },
   {
    "duration": 193,
    "start_time": "2024-05-24T01:16:20.454Z"
   },
   {
    "duration": 4,
    "start_time": "2024-05-24T01:16:46.435Z"
   },
   {
    "duration": 8,
    "start_time": "2024-05-24T01:17:12.466Z"
   },
   {
    "duration": 9,
    "start_time": "2024-05-24T01:17:51.589Z"
   },
   {
    "duration": 1673,
    "start_time": "2024-05-24T01:18:52.950Z"
   },
   {
    "duration": 199,
    "start_time": "2024-05-24T01:19:02.275Z"
   },
   {
    "duration": 5,
    "start_time": "2024-05-24T01:19:29.792Z"
   },
   {
    "duration": 7,
    "start_time": "2024-05-24T01:20:00.223Z"
   },
   {
    "duration": 10,
    "start_time": "2024-05-24T01:20:19.605Z"
   },
   {
    "duration": 1170,
    "start_time": "2024-05-24T01:46:37.371Z"
   },
   {
    "duration": 394,
    "start_time": "2024-05-24T01:46:38.544Z"
   },
   {
    "duration": 21,
    "start_time": "2024-05-24T01:46:38.942Z"
   },
   {
    "duration": 13,
    "start_time": "2024-05-24T01:46:38.966Z"
   },
   {
    "duration": 13,
    "start_time": "2024-05-24T01:46:38.982Z"
   },
   {
    "duration": 51,
    "start_time": "2024-05-24T01:46:38.998Z"
   },
   {
    "duration": 19,
    "start_time": "2024-05-24T01:46:39.052Z"
   },
   {
    "duration": 18,
    "start_time": "2024-05-24T01:46:39.075Z"
   },
   {
    "duration": 89,
    "start_time": "2024-05-24T01:46:39.095Z"
   },
   {
    "duration": 77,
    "start_time": "2024-05-24T01:46:39.191Z"
   },
   {
    "duration": 71,
    "start_time": "2024-05-24T01:46:39.272Z"
   },
   {
    "duration": 56,
    "start_time": "2024-05-24T01:46:39.346Z"
   },
   {
    "duration": 71,
    "start_time": "2024-05-24T01:46:39.405Z"
   },
   {
    "duration": 73,
    "start_time": "2024-05-24T01:46:39.478Z"
   },
   {
    "duration": 7,
    "start_time": "2024-05-24T01:46:39.553Z"
   },
   {
    "duration": 7,
    "start_time": "2024-05-24T01:46:39.562Z"
   },
   {
    "duration": 7,
    "start_time": "2024-05-24T01:46:39.572Z"
   },
   {
    "duration": 6,
    "start_time": "2024-05-24T01:46:39.581Z"
   },
   {
    "duration": 56,
    "start_time": "2024-05-24T01:46:39.589Z"
   },
   {
    "duration": 5,
    "start_time": "2024-05-24T01:46:39.648Z"
   },
   {
    "duration": 18,
    "start_time": "2024-05-24T01:46:39.655Z"
   },
   {
    "duration": 54,
    "start_time": "2024-05-24T01:46:39.675Z"
   },
   {
    "duration": 7,
    "start_time": "2024-05-24T01:46:39.732Z"
   },
   {
    "duration": 91,
    "start_time": "2024-05-24T01:46:39.742Z"
   },
   {
    "duration": 17,
    "start_time": "2024-05-24T01:46:39.836Z"
   },
   {
    "duration": 6,
    "start_time": "2024-05-24T01:46:39.856Z"
   },
   {
    "duration": 80,
    "start_time": "2024-05-24T01:46:39.866Z"
   },
   {
    "duration": 83,
    "start_time": "2024-05-24T01:46:39.960Z"
   },
   {
    "duration": 6,
    "start_time": "2024-05-24T01:46:40.046Z"
   },
   {
    "duration": 3,
    "start_time": "2024-05-24T01:46:40.055Z"
   },
   {
    "duration": 71,
    "start_time": "2024-05-24T01:46:40.061Z"
   },
   {
    "duration": 8,
    "start_time": "2024-05-24T01:46:40.136Z"
   },
   {
    "duration": 5,
    "start_time": "2024-05-24T01:46:40.148Z"
   },
   {
    "duration": 75,
    "start_time": "2024-05-24T01:46:40.156Z"
   },
   {
    "duration": 5,
    "start_time": "2024-05-24T01:46:40.235Z"
   },
   {
    "duration": 5,
    "start_time": "2024-05-24T01:46:40.243Z"
   },
   {
    "duration": 13,
    "start_time": "2024-05-24T01:46:40.251Z"
   },
   {
    "duration": 15,
    "start_time": "2024-05-24T01:46:40.266Z"
   },
   {
    "duration": 12,
    "start_time": "2024-05-24T01:46:40.329Z"
   },
   {
    "duration": 4,
    "start_time": "2024-05-24T01:46:40.344Z"
   },
   {
    "duration": 6,
    "start_time": "2024-05-24T01:46:40.352Z"
   },
   {
    "duration": 1761,
    "start_time": "2024-05-24T01:46:40.360Z"
   },
   {
    "duration": 534,
    "start_time": "2024-05-24T01:46:42.124Z"
   },
   {
    "duration": 5,
    "start_time": "2024-05-24T01:46:42.661Z"
   },
   {
    "duration": 8,
    "start_time": "2024-05-24T01:46:42.670Z"
   },
   {
    "duration": 6,
    "start_time": "2024-05-24T01:46:42.681Z"
   },
   {
    "duration": 49,
    "start_time": "2024-05-24T01:46:42.690Z"
   },
   {
    "duration": 1712,
    "start_time": "2024-05-24T01:46:42.742Z"
   },
   {
    "duration": 231,
    "start_time": "2024-05-24T01:46:44.458Z"
   },
   {
    "duration": 8,
    "start_time": "2024-05-24T01:46:44.692Z"
   },
   {
    "duration": 8,
    "start_time": "2024-05-24T01:46:44.702Z"
   },
   {
    "duration": 10,
    "start_time": "2024-05-24T01:46:44.731Z"
   },
   {
    "duration": 1714,
    "start_time": "2024-05-24T01:46:44.745Z"
   },
   {
    "duration": 228,
    "start_time": "2024-05-24T01:46:46.462Z"
   },
   {
    "duration": 6,
    "start_time": "2024-05-24T01:46:46.693Z"
   },
   {
    "duration": 30,
    "start_time": "2024-05-24T01:46:46.703Z"
   },
   {
    "duration": 10,
    "start_time": "2024-05-24T01:46:46.736Z"
   },
   {
    "duration": 320,
    "start_time": "2024-05-25T05:44:53.852Z"
   },
   {
    "duration": 1312,
    "start_time": "2024-05-25T05:44:57.623Z"
   },
   {
    "duration": 470,
    "start_time": "2024-05-25T05:44:58.940Z"
   },
   {
    "duration": 27,
    "start_time": "2024-05-25T05:44:59.413Z"
   },
   {
    "duration": 16,
    "start_time": "2024-05-25T05:44:59.445Z"
   },
   {
    "duration": 16,
    "start_time": "2024-05-25T05:44:59.464Z"
   },
   {
    "duration": 59,
    "start_time": "2024-05-25T05:44:59.483Z"
   },
   {
    "duration": 24,
    "start_time": "2024-05-25T05:44:59.545Z"
   },
   {
    "duration": 21,
    "start_time": "2024-05-25T05:44:59.573Z"
   },
   {
    "duration": 104,
    "start_time": "2024-05-25T05:44:59.597Z"
   },
   {
    "duration": 88,
    "start_time": "2024-05-25T05:44:59.707Z"
   },
   {
    "duration": 98,
    "start_time": "2024-05-25T05:44:59.798Z"
   },
   {
    "duration": 89,
    "start_time": "2024-05-25T05:44:59.905Z"
   },
   {
    "duration": 82,
    "start_time": "2024-05-25T05:44:59.997Z"
   },
   {
    "duration": 82,
    "start_time": "2024-05-25T05:45:00.083Z"
   },
   {
    "duration": 9,
    "start_time": "2024-05-25T05:45:00.171Z"
   },
   {
    "duration": 7,
    "start_time": "2024-05-25T05:45:00.183Z"
   },
   {
    "duration": 7,
    "start_time": "2024-05-25T05:45:00.194Z"
   },
   {
    "duration": 7,
    "start_time": "2024-05-25T05:45:00.227Z"
   },
   {
    "duration": 23,
    "start_time": "2024-05-25T05:45:00.243Z"
   },
   {
    "duration": 5,
    "start_time": "2024-05-25T05:45:00.269Z"
   },
   {
    "duration": 54,
    "start_time": "2024-05-25T05:45:00.277Z"
   },
   {
    "duration": 7,
    "start_time": "2024-05-25T05:45:00.336Z"
   },
   {
    "duration": 10,
    "start_time": "2024-05-25T05:45:00.348Z"
   },
   {
    "duration": 84,
    "start_time": "2024-05-25T05:45:00.361Z"
   },
   {
    "duration": 24,
    "start_time": "2024-05-25T05:45:00.448Z"
   },
   {
    "duration": 54,
    "start_time": "2024-05-25T05:45:00.477Z"
   },
   {
    "duration": 91,
    "start_time": "2024-05-25T05:45:00.536Z"
   },
   {
    "duration": 25,
    "start_time": "2024-05-25T05:45:00.635Z"
   },
   {
    "duration": 12,
    "start_time": "2024-05-25T05:45:00.665Z"
   },
   {
    "duration": 50,
    "start_time": "2024-05-25T05:45:00.680Z"
   },
   {
    "duration": 7,
    "start_time": "2024-05-25T05:45:00.733Z"
   },
   {
    "duration": 5,
    "start_time": "2024-05-25T05:45:00.747Z"
   },
   {
    "duration": 72,
    "start_time": "2024-05-25T05:45:00.757Z"
   },
   {
    "duration": 7,
    "start_time": "2024-05-25T05:45:00.833Z"
   },
   {
    "duration": 7,
    "start_time": "2024-05-25T05:45:00.843Z"
   },
   {
    "duration": 7,
    "start_time": "2024-05-25T05:45:00.852Z"
   },
   {
    "duration": 65,
    "start_time": "2024-05-25T05:45:00.863Z"
   },
   {
    "duration": 14,
    "start_time": "2024-05-25T05:45:00.932Z"
   },
   {
    "duration": 14,
    "start_time": "2024-05-25T05:45:00.950Z"
   },
   {
    "duration": 5,
    "start_time": "2024-05-25T05:45:00.968Z"
   },
   {
    "duration": 50,
    "start_time": "2024-05-25T05:45:00.976Z"
   },
   {
    "duration": 1945,
    "start_time": "2024-05-25T05:45:01.030Z"
   },
   {
    "duration": 551,
    "start_time": "2024-05-25T05:45:02.980Z"
   },
   {
    "duration": 6,
    "start_time": "2024-05-25T05:45:03.534Z"
   },
   {
    "duration": 8,
    "start_time": "2024-05-25T05:45:03.543Z"
   },
   {
    "duration": 6,
    "start_time": "2024-05-25T05:45:03.554Z"
   },
   {
    "duration": 10,
    "start_time": "2024-05-25T05:45:03.564Z"
   },
   {
    "duration": 51,
    "start_time": "2024-05-25T05:45:03.581Z"
   },
   {
    "duration": 9,
    "start_time": "2024-05-25T05:45:10.208Z"
   },
   {
    "duration": 8,
    "start_time": "2024-05-25T05:45:18.953Z"
   },
   {
    "duration": 7,
    "start_time": "2024-05-25T05:45:21.368Z"
   },
   {
    "duration": 1228,
    "start_time": "2024-05-26T20:32:01.799Z"
   },
   {
    "duration": 511,
    "start_time": "2024-05-26T20:32:03.031Z"
   },
   {
    "duration": 20,
    "start_time": "2024-05-26T20:32:03.545Z"
   },
   {
    "duration": 12,
    "start_time": "2024-05-26T20:32:03.570Z"
   },
   {
    "duration": 14,
    "start_time": "2024-05-26T20:32:03.608Z"
   },
   {
    "duration": 19,
    "start_time": "2024-05-26T20:32:03.626Z"
   },
   {
    "duration": 18,
    "start_time": "2024-05-26T20:32:03.648Z"
   },
   {
    "duration": 18,
    "start_time": "2024-05-26T20:32:03.708Z"
   },
   {
    "duration": 81,
    "start_time": "2024-05-26T20:32:03.729Z"
   },
   {
    "duration": 58,
    "start_time": "2024-05-26T20:32:03.817Z"
   },
   {
    "duration": 80,
    "start_time": "2024-05-26T20:32:03.878Z"
   },
   {
    "duration": 76,
    "start_time": "2024-05-26T20:32:03.962Z"
   },
   {
    "duration": 53,
    "start_time": "2024-05-26T20:32:04.041Z"
   },
   {
    "duration": 61,
    "start_time": "2024-05-26T20:32:04.109Z"
   },
   {
    "duration": 8,
    "start_time": "2024-05-26T20:32:04.174Z"
   },
   {
    "duration": 8,
    "start_time": "2024-05-26T20:32:04.210Z"
   },
   {
    "duration": 8,
    "start_time": "2024-05-26T20:32:04.221Z"
   },
   {
    "duration": 8,
    "start_time": "2024-05-26T20:32:04.233Z"
   },
   {
    "duration": 18,
    "start_time": "2024-05-26T20:32:04.244Z"
   },
   {
    "duration": 43,
    "start_time": "2024-05-26T20:32:04.265Z"
   },
   {
    "duration": 17,
    "start_time": "2024-05-26T20:32:04.312Z"
   },
   {
    "duration": 4,
    "start_time": "2024-05-26T20:32:04.331Z"
   },
   {
    "duration": 71,
    "start_time": "2024-05-26T20:32:04.338Z"
   },
   {
    "duration": 19,
    "start_time": "2024-05-26T20:32:04.412Z"
   },
   {
    "duration": 89,
    "start_time": "2024-05-26T20:32:04.433Z"
   },
   {
    "duration": 7,
    "start_time": "2024-05-26T20:32:04.525Z"
   },
   {
    "duration": 92,
    "start_time": "2024-05-26T20:32:04.535Z"
   },
   {
    "duration": 18,
    "start_time": "2024-05-26T20:32:04.711Z"
   },
   {
    "duration": 6,
    "start_time": "2024-05-26T20:32:04.732Z"
   },
   {
    "duration": 68,
    "start_time": "2024-05-26T20:32:04.741Z"
   },
   {
    "duration": 5,
    "start_time": "2024-05-26T20:32:04.817Z"
   },
   {
    "duration": 5,
    "start_time": "2024-05-26T20:32:04.825Z"
   },
   {
    "duration": 79,
    "start_time": "2024-05-26T20:32:04.833Z"
   },
   {
    "duration": 6,
    "start_time": "2024-05-26T20:32:04.915Z"
   },
   {
    "duration": 8,
    "start_time": "2024-05-26T20:32:04.924Z"
   },
   {
    "duration": 5,
    "start_time": "2024-05-26T20:32:04.935Z"
   },
   {
    "duration": 13,
    "start_time": "2024-05-26T20:32:04.944Z"
   },
   {
    "duration": 13,
    "start_time": "2024-05-26T20:32:05.010Z"
   },
   {
    "duration": 12,
    "start_time": "2024-05-26T20:32:05.025Z"
   },
   {
    "duration": 5,
    "start_time": "2024-05-26T20:32:05.039Z"
   },
   {
    "duration": 6,
    "start_time": "2024-05-26T20:32:05.047Z"
   },
   {
    "duration": 1767,
    "start_time": "2024-05-26T20:32:05.055Z"
   },
   {
    "duration": 4170,
    "start_time": "2024-05-26T20:32:06.825Z"
   },
   {
    "duration": 11,
    "start_time": "2024-05-26T20:32:10.999Z"
   },
   {
    "duration": 8,
    "start_time": "2024-05-26T20:32:11.014Z"
   },
   {
    "duration": 5,
    "start_time": "2024-05-26T20:32:11.028Z"
   },
   {
    "duration": 10,
    "start_time": "2024-05-26T20:32:11.037Z"
   },
   {
    "duration": 1708,
    "start_time": "2024-05-26T20:32:11.050Z"
   },
   {
    "duration": 225,
    "start_time": "2024-05-26T20:32:12.762Z"
   },
   {
    "duration": 5,
    "start_time": "2024-05-26T20:32:12.991Z"
   },
   {
    "duration": 9,
    "start_time": "2024-05-26T20:32:13.011Z"
   },
   {
    "duration": 13,
    "start_time": "2024-05-26T20:32:13.024Z"
   },
   {
    "duration": 1743,
    "start_time": "2024-05-26T20:32:13.041Z"
   },
   {
    "duration": 237,
    "start_time": "2024-05-26T20:32:14.787Z"
   },
   {
    "duration": 5,
    "start_time": "2024-05-26T20:32:15.029Z"
   },
   {
    "duration": 7,
    "start_time": "2024-05-26T20:32:15.038Z"
   },
   {
    "duration": 11,
    "start_time": "2024-05-26T20:32:15.048Z"
   },
   {
    "duration": 5,
    "start_time": "2024-05-26T20:34:22.809Z"
   },
   {
    "duration": 2063,
    "start_time": "2024-05-26T20:34:23.941Z"
   },
   {
    "duration": 278,
    "start_time": "2024-05-26T20:34:27.487Z"
   },
   {
    "duration": 5,
    "start_time": "2024-05-26T20:35:42.949Z"
   },
   {
    "duration": 1768,
    "start_time": "2024-05-26T20:35:43.620Z"
   },
   {
    "duration": 519,
    "start_time": "2024-05-26T20:35:45.392Z"
   },
   {
    "duration": 4,
    "start_time": "2024-05-26T20:35:46.365Z"
   },
   {
    "duration": 198,
    "start_time": "2024-05-26T20:35:57.853Z"
   },
   {
    "duration": 4,
    "start_time": "2024-05-26T20:36:11.348Z"
   },
   {
    "duration": 6,
    "start_time": "2024-05-26T20:37:24.932Z"
   },
   {
    "duration": 40,
    "start_time": "2024-05-26T20:37:38.548Z"
   },
   {
    "duration": 6,
    "start_time": "2024-05-26T20:37:52.935Z"
   },
   {
    "duration": 1698,
    "start_time": "2024-05-26T20:37:53.546Z"
   },
   {
    "duration": 207,
    "start_time": "2024-05-26T20:37:55.329Z"
   },
   {
    "duration": 5,
    "start_time": "2024-05-26T20:37:59.739Z"
   },
   {
    "duration": 7,
    "start_time": "2024-05-26T20:43:50.418Z"
   },
   {
    "duration": 7,
    "start_time": "2024-05-26T20:43:57.486Z"
   },
   {
    "duration": 201,
    "start_time": "2024-05-26T20:44:46.422Z"
   },
   {
    "duration": 217,
    "start_time": "2024-05-26T20:44:52.253Z"
   },
   {
    "duration": 6,
    "start_time": "2024-05-26T20:45:12.957Z"
   },
   {
    "duration": 12,
    "start_time": "2024-05-26T20:48:09.288Z"
   },
   {
    "duration": 5,
    "start_time": "2024-05-26T20:50:11.278Z"
   },
   {
    "duration": 6,
    "start_time": "2024-05-26T20:50:38.226Z"
   },
   {
    "duration": 1684,
    "start_time": "2024-05-26T20:53:01.698Z"
   },
   {
    "duration": 201,
    "start_time": "2024-05-26T20:53:03.969Z"
   },
   {
    "duration": 5,
    "start_time": "2024-05-26T20:53:17.275Z"
   },
   {
    "duration": 8,
    "start_time": "2024-05-26T20:53:43.888Z"
   },
   {
    "duration": 5,
    "start_time": "2024-05-26T20:54:49.488Z"
   },
   {
    "duration": 7,
    "start_time": "2024-05-26T20:56:39.988Z"
   },
   {
    "duration": 5,
    "start_time": "2024-05-26T20:56:43.349Z"
   },
   {
    "duration": 1672,
    "start_time": "2024-05-26T20:57:30.729Z"
   },
   {
    "duration": 194,
    "start_time": "2024-05-26T20:57:48.594Z"
   },
   {
    "duration": 5,
    "start_time": "2024-05-26T20:58:11.937Z"
   },
   {
    "duration": 8,
    "start_time": "2024-05-26T20:58:40.296Z"
   },
   {
    "duration": 5,
    "start_time": "2024-05-26T20:59:13.403Z"
   },
   {
    "duration": 1260,
    "start_time": "2024-05-26T21:00:22.871Z"
   },
   {
    "duration": 501,
    "start_time": "2024-05-26T21:00:24.136Z"
   },
   {
    "duration": 27,
    "start_time": "2024-05-26T21:00:24.649Z"
   },
   {
    "duration": 30,
    "start_time": "2024-05-26T21:00:24.682Z"
   },
   {
    "duration": 16,
    "start_time": "2024-05-26T21:00:24.721Z"
   },
   {
    "duration": 22,
    "start_time": "2024-05-26T21:00:24.740Z"
   },
   {
    "duration": 68,
    "start_time": "2024-05-26T21:00:24.765Z"
   },
   {
    "duration": 26,
    "start_time": "2024-05-26T21:00:24.839Z"
   },
   {
    "duration": 98,
    "start_time": "2024-05-26T21:00:24.868Z"
   },
   {
    "duration": 86,
    "start_time": "2024-05-26T21:00:24.969Z"
   },
   {
    "duration": 88,
    "start_time": "2024-05-26T21:00:25.058Z"
   },
   {
    "duration": 79,
    "start_time": "2024-05-26T21:00:25.153Z"
   },
   {
    "duration": 54,
    "start_time": "2024-05-26T21:00:25.234Z"
   },
   {
    "duration": 66,
    "start_time": "2024-05-26T21:00:25.311Z"
   },
   {
    "duration": 6,
    "start_time": "2024-05-26T21:00:25.380Z"
   },
   {
    "duration": 12,
    "start_time": "2024-05-26T21:00:25.410Z"
   },
   {
    "duration": 11,
    "start_time": "2024-05-26T21:00:25.427Z"
   },
   {
    "duration": 7,
    "start_time": "2024-05-26T21:00:25.442Z"
   },
   {
    "duration": 24,
    "start_time": "2024-05-26T21:00:25.451Z"
   },
   {
    "duration": 34,
    "start_time": "2024-05-26T21:00:25.478Z"
   },
   {
    "duration": 19,
    "start_time": "2024-05-26T21:00:25.515Z"
   },
   {
    "duration": 4,
    "start_time": "2024-05-26T21:00:25.538Z"
   },
   {
    "duration": 64,
    "start_time": "2024-05-26T21:00:25.546Z"
   },
   {
    "duration": 22,
    "start_time": "2024-05-26T21:00:25.614Z"
   },
   {
    "duration": 84,
    "start_time": "2024-05-26T21:00:25.640Z"
   },
   {
    "duration": 6,
    "start_time": "2024-05-26T21:00:25.727Z"
   },
   {
    "duration": 75,
    "start_time": "2024-05-26T21:00:25.736Z"
   },
   {
    "duration": 17,
    "start_time": "2024-05-26T21:00:25.814Z"
   },
   {
    "duration": 79,
    "start_time": "2024-05-26T21:00:25.833Z"
   },
   {
    "duration": 4,
    "start_time": "2024-05-26T21:00:25.915Z"
   },
   {
    "duration": 5,
    "start_time": "2024-05-26T21:00:25.921Z"
   },
   {
    "duration": 84,
    "start_time": "2024-05-26T21:00:25.931Z"
   },
   {
    "duration": 12,
    "start_time": "2024-05-26T21:00:26.019Z"
   },
   {
    "duration": 6,
    "start_time": "2024-05-26T21:00:26.035Z"
   },
   {
    "duration": 5,
    "start_time": "2024-05-26T21:00:26.045Z"
   },
   {
    "duration": 7,
    "start_time": "2024-05-26T21:00:26.054Z"
   },
   {
    "duration": 57,
    "start_time": "2024-05-26T21:00:26.064Z"
   },
   {
    "duration": 15,
    "start_time": "2024-05-26T21:00:26.124Z"
   },
   {
    "duration": 13,
    "start_time": "2024-05-26T21:00:26.143Z"
   },
   {
    "duration": 4,
    "start_time": "2024-05-26T21:00:26.159Z"
   },
   {
    "duration": 6,
    "start_time": "2024-05-26T21:00:26.209Z"
   },
   {
    "duration": 2192,
    "start_time": "2024-05-26T21:00:26.221Z"
   },
   {
    "duration": 537,
    "start_time": "2024-05-26T21:00:28.415Z"
   },
   {
    "duration": 6,
    "start_time": "2024-05-26T21:00:28.955Z"
   },
   {
    "duration": 11,
    "start_time": "2024-05-26T21:00:28.964Z"
   },
   {
    "duration": 35,
    "start_time": "2024-05-26T21:00:28.978Z"
   },
   {
    "duration": 1737,
    "start_time": "2024-05-26T21:00:29.017Z"
   },
   {
    "duration": 271,
    "start_time": "2024-05-26T21:00:30.757Z"
   },
   {
    "duration": 6,
    "start_time": "2024-05-26T21:00:31.032Z"
   },
   {
    "duration": 10,
    "start_time": "2024-05-26T21:00:31.042Z"
   },
   {
    "duration": 6,
    "start_time": "2024-05-26T21:00:31.055Z"
   },
   {
    "duration": 1858,
    "start_time": "2024-05-26T21:00:31.065Z"
   },
   {
    "duration": 228,
    "start_time": "2024-05-26T21:00:32.926Z"
   },
   {
    "duration": 6,
    "start_time": "2024-05-26T21:00:33.157Z"
   },
   {
    "duration": 9,
    "start_time": "2024-05-26T21:00:33.166Z"
   },
   {
    "duration": 34,
    "start_time": "2024-05-26T21:00:33.178Z"
   }
  ],
  "kernelspec": {
   "display_name": "Python 3 (ipykernel)",
   "language": "python",
   "name": "python3"
  },
  "language_info": {
   "codemirror_mode": {
    "name": "ipython",
    "version": 3
   },
   "file_extension": ".py",
   "mimetype": "text/x-python",
   "name": "python",
   "nbconvert_exporter": "python",
   "pygments_lexer": "ipython3",
   "version": "3.9.19"
  },
  "toc": {
   "base_numbering": 1,
   "nav_menu": {},
   "number_sections": true,
   "sideBar": true,
   "skip_h1_title": true,
   "title_cell": "Table of Contents",
   "title_sidebar": "Contents",
   "toc_cell": false,
   "toc_position": {
    "height": "calc(100% - 180px)",
    "left": "10px",
    "top": "150px",
    "width": "325.333px"
   },
   "toc_section_display": true,
   "toc_window_display": true
  }
 },
 "nbformat": 4,
 "nbformat_minor": 2
}
